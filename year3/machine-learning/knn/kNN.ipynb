{
 "cells": [
  {
   "cell_type": "markdown",
   "source": [
    "# Подготовка датасета"
   ],
   "metadata": {
    "collapsed": false
   },
   "id": "b21638c983d46d33"
  },
  {
   "cell_type": "code",
   "execution_count": 23,
   "outputs": [],
   "source": [
    "import pandas as pd\n",
    "import numpy as np\n",
    "from sklearn.model_selection import train_test_split\n",
    "\n",
    "feature = 'State'\n",
    "train_ratio = 0.8\n",
    "\n",
    "df = pd.read_csv('us_cities.csv')\n",
    "df = df.dropna(ignore_index=True)\n",
    "target = pd.Series(pd.factorize(df[feature])[0])\n",
    "df = df.iloc[:, 6:]\n",
    "for column in df:\n",
    "    mean = df[column].mean()\n",
    "    std = df[column].std()\n",
    "    outliers = np.where((df[column] - mean) / std >= 3)[0]\n",
    "    df = df.drop(index=outliers).reset_index(drop=True)\n",
    "    target = target.drop(index=outliers).reset_index(drop=True)\n",
    "\n",
    "df = (df - df.mean()) / df.std()\n",
    "X_train, X_test, y_train, y_test = train_test_split(df, target, train_size=train_ratio)"
   ],
   "metadata": {
    "collapsed": false,
    "ExecuteTime": {
     "end_time": "2024-03-20T11:41:57.372233600Z",
     "start_time": "2024-03-20T11:41:56.625960500Z"
    }
   },
   "id": "6284c1486b81342a"
  },
  {
   "cell_type": "markdown",
   "source": [
    "# Подбор гиперпараметров"
   ],
   "metadata": {
    "collapsed": false
   },
   "id": "a194d2104e8d90ff"
  },
  {
   "cell_type": "code",
   "execution_count": 2,
   "outputs": [],
   "source": [
    "import optuna\n",
    "from knn import KnnClassifier\n",
    "from sklearn.metrics import accuracy_score\n",
    "\n",
    "train_size = int(X_train.shape[0] * train_ratio)\n",
    "train_data = X_train[: train_size]\n",
    "valid_data = X_train[train_size:]\n",
    "train_target = y_train[: train_size]\n",
    "valid_target = y_train[train_size :]"
   ],
   "metadata": {
    "collapsed": false,
    "ExecuteTime": {
     "end_time": "2024-02-27T09:50:57.500187300Z",
     "start_time": "2024-02-27T09:50:55.693611200Z"
    }
   },
   "id": "1a81f0e573e78e0c"
  },
  {
   "cell_type": "markdown",
   "source": [
    "## Для собственной реализации"
   ],
   "metadata": {
    "collapsed": false
   },
   "id": "b96f86765a0b4bbf"
  },
  {
   "cell_type": "code",
   "execution_count": 7,
   "outputs": [
    {
     "name": "stderr",
     "output_type": "stream",
     "text": [
      "[I 2024-02-27 14:49:54,394] A new study created in memory with name: no-name-48c4cb82-9793-4fad-a09d-1f771bfea2e4\n",
      "[I 2024-02-27 15:03:18,726] Trial 0 finished with value: 0.05059433099664736 and parameters: {'neighbors': 4, 'window': 'fixed', 'kernel': 'common', 'metric': 'cosine', 'h': 11.180472965446262, 'a': 3, 'b': 1}. Best is trial 0 with value: 0.05059433099664736.\n",
      "[I 2024-02-27 15:05:44,253] Trial 1 finished with value: 0.4544346235903688 and parameters: {'neighbors': 5, 'window': 'fixed', 'kernel': 'uniform', 'metric': 'cosine', 'h': 0.029826436225409137}. Best is trial 1 with value: 0.4544346235903688.\n",
      "[I 2024-02-27 15:14:21,427] Trial 2 finished with value: 0.05059433099664736 and parameters: {'neighbors': 50, 'window': 'fixed', 'kernel': 'gaussian', 'metric': 'chebyshev', 'h': 21.13051969328835}. Best is trial 1 with value: 0.4544346235903688.\n",
      "[I 2024-02-27 15:19:48,239] Trial 3 finished with value: 0.05059433099664736 and parameters: {'neighbors': 2, 'window': 'fixed', 'kernel': 'uniform', 'metric': 'chebyshev', 'h': 19.17388766975003}. Best is trial 1 with value: 0.4544346235903688.\n",
      "[I 2024-02-27 15:23:37,058] Trial 4 finished with value: 0.5102103017372752 and parameters: {'neighbors': 1, 'window': 'fixed', 'kernel': 'common', 'metric': 'cosine', 'h': 0.20199388347646438, 'a': 3, 'b': 3}. Best is trial 4 with value: 0.5102103017372752.\n",
      "[I 2024-02-27 15:23:39,147] Trial 5 finished with value: 0.6476683937823834 and parameters: {'neighbors': 1, 'window': 'unfixed', 'kernel': 'uniform', 'metric': 'minkowski', 'p': 1}. Best is trial 5 with value: 0.6476683937823834.\n",
      "[I 2024-02-27 15:23:41,153] Trial 6 finished with value: 0.6476683937823834 and parameters: {'neighbors': 1, 'window': 'unfixed', 'kernel': 'common', 'metric': 'minkowski', 'a': 3, 'b': 3, 'p': 1}. Best is trial 5 with value: 0.6476683937823834.\n",
      "[I 2024-02-27 15:24:13,520] Trial 7 finished with value: 0.6345626333434928 and parameters: {'neighbors': 12, 'window': 'unfixed', 'kernel': 'uniform', 'metric': 'minkowski', 'p': 3}. Best is trial 5 with value: 0.6476683937823834.\n",
      "[I 2024-02-27 15:24:45,453] Trial 8 finished with value: 0.6415726912526669 and parameters: {'neighbors': 8, 'window': 'unfixed', 'kernel': 'uniform', 'metric': 'minkowski', 'p': 3}. Best is trial 5 with value: 0.6476683937823834.\n",
      "[I 2024-02-27 15:30:09,513] Trial 9 finished with value: 0.055775678146906434 and parameters: {'neighbors': 1, 'window': 'fixed', 'kernel': 'uniform', 'metric': 'chebyshev', 'h': 5.438206394025311}. Best is trial 5 with value: 0.6476683937823834.\n",
      "[I 2024-02-27 15:30:12,258] Trial 10 finished with value: 0.7025297165498323 and parameters: {'neighbors': 18, 'window': 'unfixed', 'kernel': 'gaussian', 'metric': 'minkowski', 'p': 1}. Best is trial 10 with value: 0.7025297165498323.\n",
      "[I 2024-02-27 15:30:15,467] Trial 11 finished with value: 0.6824138982017678 and parameters: {'neighbors': 32, 'window': 'unfixed', 'kernel': 'gaussian', 'metric': 'minkowski', 'p': 1}. Best is trial 10 with value: 0.7025297165498323.\n",
      "[I 2024-02-27 15:30:18,685] Trial 12 finished with value: 0.6839378238341969 and parameters: {'neighbors': 31, 'window': 'unfixed', 'kernel': 'gaussian', 'metric': 'minkowski', 'p': 1}. Best is trial 10 with value: 0.7025297165498323.\n",
      "[I 2024-02-27 15:30:21,400] Trial 13 finished with value: 0.6595550137153307 and parameters: {'neighbors': 18, 'window': 'unfixed', 'kernel': 'gaussian', 'metric': 'minkowski', 'p': 2}. Best is trial 10 with value: 0.7025297165498323.\n",
      "[I 2024-02-27 15:30:24,267] Trial 14 finished with value: 0.6513258153002134 and parameters: {'neighbors': 23, 'window': 'unfixed', 'kernel': 'gaussian', 'metric': 'minkowski', 'p': 2}. Best is trial 10 with value: 0.7025297165498323.\n",
      "[I 2024-02-27 15:30:58,721] Trial 15 finished with value: 0.5781773849436147 and parameters: {'neighbors': 46, 'window': 'unfixed', 'kernel': 'gaussian', 'metric': 'minkowski', 'p': 4}. Best is trial 10 with value: 0.7025297165498323.\n",
      "[I 2024-02-27 15:31:01,196] Trial 16 finished with value: 0.7067967083206339 and parameters: {'neighbors': 12, 'window': 'unfixed', 'kernel': 'gaussian', 'metric': 'minkowski', 'p': 1}. Best is trial 16 with value: 0.7067967083206339.\n",
      "[I 2024-02-27 15:31:03,556] Trial 17 finished with value: 0.6705272782688205 and parameters: {'neighbors': 9, 'window': 'unfixed', 'kernel': 'gaussian', 'metric': 'minkowski', 'p': 2}. Best is trial 16 with value: 0.7067967083206339.\n",
      "[I 2024-02-27 15:34:00,644] Trial 18 finished with value: 0.6299908564462054 and parameters: {'neighbors': 3, 'window': 'unfixed', 'kernel': 'gaussian', 'metric': 'cosine'}. Best is trial 16 with value: 0.7067967083206339.\n",
      "[I 2024-02-27 15:34:04,289] Trial 19 finished with value: 0.5885400792441329 and parameters: {'neighbors': 15, 'window': 'unfixed', 'kernel': 'gaussian', 'metric': 'chebyshev'}. Best is trial 16 with value: 0.7067967083206339.\n",
      "[I 2024-02-27 15:34:06,623] Trial 20 finished with value: 0.7022249314233465 and parameters: {'neighbors': 8, 'window': 'unfixed', 'kernel': 'gaussian', 'metric': 'minkowski', 'p': 1}. Best is trial 16 with value: 0.7067967083206339.\n",
      "[I 2024-02-27 15:34:08,972] Trial 21 finished with value: 0.7022249314233465 and parameters: {'neighbors': 8, 'window': 'unfixed', 'kernel': 'gaussian', 'metric': 'minkowski', 'p': 1}. Best is trial 16 with value: 0.7067967083206339.\n",
      "[I 2024-02-27 15:34:11,440] Trial 22 finished with value: 0.701310576043889 and parameters: {'neighbors': 11, 'window': 'unfixed', 'kernel': 'gaussian', 'metric': 'minkowski', 'p': 1}. Best is trial 16 with value: 0.7067967083206339.\n",
      "[I 2024-02-27 15:34:13,730] Trial 23 finished with value: 0.6668698567509905 and parameters: {'neighbors': 7, 'window': 'unfixed', 'kernel': 'gaussian', 'metric': 'minkowski', 'p': 2}. Best is trial 16 with value: 0.7067967083206339.\n",
      "[I 2024-02-27 15:34:16,475] Trial 24 finished with value: 0.703139286802804 and parameters: {'neighbors': 17, 'window': 'unfixed', 'kernel': 'gaussian', 'metric': 'minkowski', 'p': 1}. Best is trial 16 with value: 0.7067967083206339.\n",
      "[I 2024-02-27 15:34:19,339] Trial 25 finished with value: 0.6787564766839378 and parameters: {'neighbors': 21, 'window': 'unfixed', 'kernel': 'common', 'metric': 'minkowski', 'a': 1, 'b': 1, 'p': 2}. Best is trial 16 with value: 0.7067967083206339.\n",
      "[I 2024-02-27 15:34:22,789] Trial 26 finished with value: 0.7010057909174032 and parameters: {'neighbors': 14, 'window': 'unfixed', 'kernel': 'gaussian', 'metric': 'minkowski', 'p': 1}. Best is trial 16 with value: 0.7067967083206339.\n",
      "[I 2024-02-27 15:34:25,975] Trial 27 finished with value: 0.6424870466321243 and parameters: {'neighbors': 30, 'window': 'unfixed', 'kernel': 'gaussian', 'metric': 'minkowski', 'p': 2}. Best is trial 16 with value: 0.7067967083206339.\n",
      "[I 2024-02-27 15:34:30,837] Trial 28 finished with value: 0.5711673270344407 and parameters: {'neighbors': 24, 'window': 'unfixed', 'kernel': 'gaussian', 'metric': 'chebyshev'}. Best is trial 16 with value: 0.7067967083206339.\n",
      "[I 2024-02-27 15:36:45,849] Trial 29 finished with value: 0.16793660469369096 and parameters: {'neighbors': 4, 'window': 'fixed', 'kernel': 'common', 'metric': 'cosine', 'h': 0.011039007564120372, 'a': 1, 'b': 4}. Best is trial 16 with value: 0.7067967083206339.\n",
      "[I 2024-02-27 15:39:54,724] Trial 30 finished with value: 0.6333434928375495 and parameters: {'neighbors': 6, 'window': 'unfixed', 'kernel': 'gaussian', 'metric': 'cosine'}. Best is trial 16 with value: 0.7067967083206339.\n",
      "[I 2024-02-27 15:40:00,124] Trial 31 finished with value: 0.701310576043889 and parameters: {'neighbors': 11, 'window': 'unfixed', 'kernel': 'gaussian', 'metric': 'minkowski', 'p': 1}. Best is trial 16 with value: 0.7067967083206339.\n",
      "[I 2024-02-27 15:40:04,567] Trial 32 finished with value: 0.6955196586406583 and parameters: {'neighbors': 5, 'window': 'unfixed', 'kernel': 'gaussian', 'metric': 'minkowski', 'p': 1}. Best is trial 16 with value: 0.7067967083206339.\n",
      "[I 2024-02-27 15:40:10,587] Trial 33 finished with value: 0.703139286802804 and parameters: {'neighbors': 17, 'window': 'unfixed', 'kernel': 'gaussian', 'metric': 'minkowski', 'p': 1}. Best is trial 16 with value: 0.7067967083206339.\n",
      "[I 2024-02-27 15:40:13,410] Trial 34 finished with value: 0.02804023163669613 and parameters: {'neighbors': 17, 'window': 'fixed', 'kernel': 'gaussian', 'metric': 'minkowski', 'h': 0.5686174263804189, 'p': 1}. Best is trial 16 with value: 0.7067967083206339.\n",
      "[I 2024-02-27 15:40:16,835] Trial 35 finished with value: 0.020115818348064616 and parameters: {'neighbors': 36, 'window': 'fixed', 'kernel': 'common', 'metric': 'chebyshev', 'h': 0.10737030407997888, 'a': 4, 'b': 2}. Best is trial 16 with value: 0.7067967083206339.\n",
      "[I 2024-02-27 15:43:31,520] Trial 36 finished with value: 0.6232855836635173 and parameters: {'neighbors': 21, 'window': 'unfixed', 'kernel': 'gaussian', 'metric': 'cosine'}. Best is trial 16 with value: 0.7067967083206339.\n",
      "[I 2024-02-27 15:43:34,131] Trial 37 finished with value: 0.7061871380676623 and parameters: {'neighbors': 13, 'window': 'unfixed', 'kernel': 'gaussian', 'metric': 'minkowski', 'p': 1}. Best is trial 16 with value: 0.7067967083206339.\n",
      "[I 2024-02-27 15:45:41,170] Trial 38 finished with value: 0.17128924108503504 and parameters: {'neighbors': 2, 'window': 'fixed', 'kernel': 'uniform', 'metric': 'minkowski', 'h': 2.785290725052009, 'p': 2}. Best is trial 16 with value: 0.7067967083206339.\n",
      "[I 2024-02-27 15:46:18,156] Trial 39 finished with value: 0.6360865589759219 and parameters: {'neighbors': 13, 'window': 'unfixed', 'kernel': 'common', 'metric': 'minkowski', 'a': 2, 'b': 4, 'p': 4}. Best is trial 16 with value: 0.7067967083206339.\n",
      "[I 2024-02-27 15:46:24,054] Trial 40 finished with value: 0.537031392868028 and parameters: {'neighbors': 41, 'window': 'unfixed', 'kernel': 'uniform', 'metric': 'chebyshev'}. Best is trial 16 with value: 0.7067967083206339.\n",
      "[I 2024-02-27 15:46:27,078] Trial 41 finished with value: 0.7040536421822615 and parameters: {'neighbors': 10, 'window': 'unfixed', 'kernel': 'gaussian', 'metric': 'minkowski', 'p': 1}. Best is trial 16 with value: 0.7067967083206339.\n",
      "[I 2024-02-27 15:46:29,700] Trial 42 finished with value: 0.7067967083206339 and parameters: {'neighbors': 12, 'window': 'unfixed', 'kernel': 'gaussian', 'metric': 'minkowski', 'p': 1}. Best is trial 16 with value: 0.7067967083206339.\n",
      "[I 2024-02-27 15:46:32,426] Trial 43 finished with value: 0.7040536421822615 and parameters: {'neighbors': 10, 'window': 'unfixed', 'kernel': 'gaussian', 'metric': 'minkowski', 'p': 1}. Best is trial 16 with value: 0.7067967083206339.\n",
      "[I 2024-02-27 15:46:35,756] Trial 44 finished with value: 0.7040536421822615 and parameters: {'neighbors': 10, 'window': 'unfixed', 'kernel': 'gaussian', 'metric': 'minkowski', 'p': 1}. Best is trial 16 with value: 0.7067967083206339.\n",
      "[I 2024-02-27 15:46:39,791] Trial 45 finished with value: 0.7019201462968607 and parameters: {'neighbors': 6, 'window': 'unfixed', 'kernel': 'gaussian', 'metric': 'minkowski', 'p': 1}. Best is trial 16 with value: 0.7067967083206339.\n",
      "[I 2024-02-27 15:55:44,711] Trial 46 finished with value: 0.05059433099664736 and parameters: {'neighbors': 4, 'window': 'fixed', 'kernel': 'gaussian', 'metric': 'minkowski', 'h': 82.18353270594527, 'p': 1}. Best is trial 16 with value: 0.7067967083206339.\n",
      "[I 2024-02-27 15:55:47,113] Trial 47 finished with value: 0.6997866504114599 and parameters: {'neighbors': 13, 'window': 'unfixed', 'kernel': 'uniform', 'metric': 'minkowski', 'p': 1}. Best is trial 16 with value: 0.7067967083206339.\n",
      "[I 2024-02-27 15:58:42,186] Trial 48 finished with value: 0.6333434928375495 and parameters: {'neighbors': 6, 'window': 'unfixed', 'kernel': 'gaussian', 'metric': 'cosine'}. Best is trial 16 with value: 0.7067967083206339.\n",
      "[I 2024-02-27 15:58:44,656] Trial 49 finished with value: 0.7040536421822615 and parameters: {'neighbors': 10, 'window': 'unfixed', 'kernel': 'gaussian', 'metric': 'minkowski', 'p': 1}. Best is trial 16 with value: 0.7067967083206339.\n",
      "[I 2024-02-27 15:59:16,820] Trial 50 finished with value: 0.6424870466321243 and parameters: {'neighbors': 3, 'window': 'unfixed', 'kernel': 'gaussian', 'metric': 'minkowski', 'p': 3}. Best is trial 16 with value: 0.7067967083206339.\n",
      "[I 2024-02-27 15:59:19,263] Trial 51 finished with value: 0.7034440719292898 and parameters: {'neighbors': 9, 'window': 'unfixed', 'kernel': 'gaussian', 'metric': 'minkowski', 'p': 1}. Best is trial 16 with value: 0.7067967083206339.\n",
      "[I 2024-02-27 15:59:21,724] Trial 52 finished with value: 0.7040536421822615 and parameters: {'neighbors': 10, 'window': 'unfixed', 'kernel': 'gaussian', 'metric': 'minkowski', 'p': 1}. Best is trial 16 with value: 0.7067967083206339.\n",
      "[I 2024-02-27 15:59:24,886] Trial 53 finished with value: 0.7016153611703749 and parameters: {'neighbors': 7, 'window': 'unfixed', 'kernel': 'gaussian', 'metric': 'minkowski', 'p': 1}. Best is trial 16 with value: 0.7067967083206339.\n",
      "[I 2024-02-27 15:59:28,316] Trial 54 finished with value: 0.7067967083206339 and parameters: {'neighbors': 12, 'window': 'unfixed', 'kernel': 'gaussian', 'metric': 'minkowski', 'p': 1}. Best is trial 16 with value: 0.7067967083206339.\n",
      "[I 2024-02-27 15:59:32,234] Trial 55 finished with value: 0.689119170984456 and parameters: {'neighbors': 26, 'window': 'unfixed', 'kernel': 'gaussian', 'metric': 'minkowski', 'p': 1}. Best is trial 16 with value: 0.7067967083206339.\n",
      "[I 2024-02-27 15:59:34,978] Trial 56 finished with value: 0.7010057909174032 and parameters: {'neighbors': 15, 'window': 'unfixed', 'kernel': 'gaussian', 'metric': 'minkowski', 'p': 1}. Best is trial 16 with value: 0.7067967083206339.\n",
      "[I 2024-02-27 15:59:39,319] Trial 57 finished with value: 0.6196281621456873 and parameters: {'neighbors': 7, 'window': 'unfixed', 'kernel': 'common', 'metric': 'chebyshev', 'a': 4, 'b': 2}. Best is trial 16 with value: 0.7067967083206339.\n",
      "[I 2024-02-27 15:59:41,822] Trial 58 finished with value: 0.6467540384029259 and parameters: {'neighbors': 15, 'window': 'unfixed', 'kernel': 'uniform', 'metric': 'minkowski', 'p': 2}. Best is trial 16 with value: 0.7067967083206339.\n",
      "[I 2024-02-27 15:59:44,357] Trial 59 finished with value: 0.7067967083206339 and parameters: {'neighbors': 12, 'window': 'unfixed', 'kernel': 'gaussian', 'metric': 'minkowski', 'p': 1}. Best is trial 16 with value: 0.7067967083206339.\n",
      "[I 2024-02-27 15:59:48,116] Trial 60 finished with value: 0.5184395001523926 and parameters: {'neighbors': 12, 'window': 'fixed', 'kernel': 'gaussian', 'metric': 'minkowski', 'h': 1.782703485907597, 'p': 1}. Best is trial 16 with value: 0.7067967083206339.\n",
      "[I 2024-02-27 15:59:50,618] Trial 61 finished with value: 0.7034440719292898 and parameters: {'neighbors': 9, 'window': 'unfixed', 'kernel': 'gaussian', 'metric': 'minkowski', 'p': 1}. Best is trial 16 with value: 0.7067967083206339.\n",
      "[I 2024-02-27 15:59:53,092] Trial 62 finished with value: 0.7067967083206339 and parameters: {'neighbors': 12, 'window': 'unfixed', 'kernel': 'gaussian', 'metric': 'minkowski', 'p': 1}. Best is trial 16 with value: 0.7067967083206339.\n",
      "[I 2024-02-27 15:59:56,760] Trial 63 finished with value: 0.7025297165498323 and parameters: {'neighbors': 19, 'window': 'unfixed', 'kernel': 'gaussian', 'metric': 'minkowski', 'p': 1}. Best is trial 16 with value: 0.7067967083206339.\n",
      "[I 2024-02-27 15:59:59,341] Trial 64 finished with value: 0.7067967083206339 and parameters: {'neighbors': 12, 'window': 'unfixed', 'kernel': 'gaussian', 'metric': 'minkowski', 'p': 1}. Best is trial 16 with value: 0.7067967083206339.\n",
      "[I 2024-02-27 16:00:02,761] Trial 65 finished with value: 0.6674794270039622 and parameters: {'neighbors': 12, 'window': 'unfixed', 'kernel': 'gaussian', 'metric': 'minkowski', 'p': 2}. Best is trial 16 with value: 0.7067967083206339.\n",
      "[I 2024-02-27 16:00:05,454] Trial 66 finished with value: 0.7010057909174032 and parameters: {'neighbors': 15, 'window': 'unfixed', 'kernel': 'gaussian', 'metric': 'minkowski', 'p': 1}. Best is trial 16 with value: 0.7067967083206339.\n",
      "[I 2024-02-27 16:03:12,378] Trial 67 finished with value: 0.6415726912526669 and parameters: {'neighbors': 8, 'window': 'unfixed', 'kernel': 'gaussian', 'metric': 'cosine'}. Best is trial 16 with value: 0.7067967083206339.\n",
      "[I 2024-02-27 16:03:45,754] Trial 68 finished with value: 0.6248095092959464 and parameters: {'neighbors': 20, 'window': 'unfixed', 'kernel': 'gaussian', 'metric': 'minkowski', 'p': 3}. Best is trial 16 with value: 0.7067967083206339.\n",
      "[I 2024-02-27 16:03:48,830] Trial 69 finished with value: 0.6860713197195977 and parameters: {'neighbors': 27, 'window': 'unfixed', 'kernel': 'gaussian', 'metric': 'minkowski', 'p': 1}. Best is trial 16 with value: 0.7067967083206339.\n",
      "[I 2024-02-27 16:03:53,300] Trial 70 finished with value: 0.6126181042365133 and parameters: {'neighbors': 13, 'window': 'unfixed', 'kernel': 'common', 'metric': 'chebyshev', 'a': 2, 'b': 4}. Best is trial 16 with value: 0.7067967083206339.\n",
      "[I 2024-02-27 16:03:55,800] Trial 71 finished with value: 0.7067967083206339 and parameters: {'neighbors': 12, 'window': 'unfixed', 'kernel': 'gaussian', 'metric': 'minkowski', 'p': 1}. Best is trial 16 with value: 0.7067967083206339.\n",
      "[I 2024-02-27 16:03:59,345] Trial 72 finished with value: 0.7046632124352331 and parameters: {'neighbors': 16, 'window': 'unfixed', 'kernel': 'gaussian', 'metric': 'minkowski', 'p': 1}. Best is trial 16 with value: 0.7067967083206339.\n",
      "[I 2024-02-27 16:04:01,852] Trial 73 finished with value: 0.701310576043889 and parameters: {'neighbors': 11, 'window': 'unfixed', 'kernel': 'gaussian', 'metric': 'minkowski', 'p': 1}. Best is trial 16 with value: 0.7067967083206339.\n",
      "[I 2024-02-27 16:04:04,185] Trial 74 finished with value: 0.7022249314233465 and parameters: {'neighbors': 8, 'window': 'unfixed', 'kernel': 'gaussian', 'metric': 'minkowski', 'p': 1}. Best is trial 16 with value: 0.7067967083206339.\n",
      "[I 2024-02-27 16:04:08,071] Trial 75 finished with value: 0.6970435842730874 and parameters: {'neighbors': 23, 'window': 'unfixed', 'kernel': 'gaussian', 'metric': 'minkowski', 'p': 1}. Best is trial 16 with value: 0.7067967083206339.\n",
      "[I 2024-02-27 16:04:10,647] Trial 76 finished with value: 0.7067967083206339 and parameters: {'neighbors': 12, 'window': 'unfixed', 'kernel': 'gaussian', 'metric': 'minkowski', 'p': 1}. Best is trial 16 with value: 0.7067967083206339.\n",
      "[I 2024-02-27 16:04:13,215] Trial 77 finished with value: 0.7067967083206339 and parameters: {'neighbors': 12, 'window': 'unfixed', 'kernel': 'gaussian', 'metric': 'minkowski', 'p': 1}. Best is trial 16 with value: 0.7067967083206339.\n",
      "[I 2024-02-27 16:09:42,280] Trial 78 finished with value: 0.05028954587016154 and parameters: {'neighbors': 7, 'window': 'fixed', 'kernel': 'uniform', 'metric': 'minkowski', 'h': 76.83255395401733, 'p': 2}. Best is trial 16 with value: 0.7067967083206339.\n",
      "[I 2024-02-27 16:12:47,268] Trial 79 finished with value: 0.6226760134105456 and parameters: {'neighbors': 19, 'window': 'unfixed', 'kernel': 'gaussian', 'metric': 'cosine'}. Best is trial 16 with value: 0.7067967083206339.\n",
      "[I 2024-02-27 16:12:49,779] Trial 80 finished with value: 0.7010057909174032 and parameters: {'neighbors': 14, 'window': 'unfixed', 'kernel': 'gaussian', 'metric': 'minkowski', 'p': 1}. Best is trial 16 with value: 0.7067967083206339.\n",
      "[I 2024-02-27 16:12:52,230] Trial 81 finished with value: 0.701310576043889 and parameters: {'neighbors': 11, 'window': 'unfixed', 'kernel': 'gaussian', 'metric': 'minkowski', 'p': 1}. Best is trial 16 with value: 0.7067967083206339.\n",
      "[I 2024-02-27 16:12:54,536] Trial 82 finished with value: 0.7034440719292898 and parameters: {'neighbors': 9, 'window': 'unfixed', 'kernel': 'gaussian', 'metric': 'minkowski', 'p': 1}. Best is trial 16 with value: 0.7067967083206339.\n",
      "[I 2024-02-27 16:12:56,962] Trial 83 finished with value: 0.7067967083206339 and parameters: {'neighbors': 12, 'window': 'unfixed', 'kernel': 'gaussian', 'metric': 'minkowski', 'p': 1}. Best is trial 16 with value: 0.7067967083206339.\n",
      "[I 2024-02-27 16:12:59,540] Trial 84 finished with value: 0.703139286802804 and parameters: {'neighbors': 17, 'window': 'unfixed', 'kernel': 'gaussian', 'metric': 'minkowski', 'p': 1}. Best is trial 16 with value: 0.7067967083206339.\n",
      "[I 2024-02-27 16:13:02,058] Trial 85 finished with value: 0.7010057909174032 and parameters: {'neighbors': 14, 'window': 'unfixed', 'kernel': 'gaussian', 'metric': 'minkowski', 'p': 1}. Best is trial 16 with value: 0.7067967083206339.\n",
      "[I 2024-02-27 16:13:04,425] Trial 86 finished with value: 0.701310576043889 and parameters: {'neighbors': 11, 'window': 'unfixed', 'kernel': 'gaussian', 'metric': 'minkowski', 'p': 1}. Best is trial 16 with value: 0.7067967083206339.\n",
      "[I 2024-02-27 16:13:06,675] Trial 87 finished with value: 0.7022249314233465 and parameters: {'neighbors': 8, 'window': 'unfixed', 'kernel': 'gaussian', 'metric': 'minkowski', 'p': 1}. Best is trial 16 with value: 0.7067967083206339.\n",
      "[I 2024-02-27 16:13:11,879] Trial 88 finished with value: 0.6049984760743675 and parameters: {'neighbors': 9, 'window': 'unfixed', 'kernel': 'gaussian', 'metric': 'chebyshev'}. Best is trial 16 with value: 0.7067967083206339.\n",
      "[I 2024-02-27 16:13:13,670] Trial 89 finished with value: 0.026516306004266993 and parameters: {'neighbors': 12, 'window': 'fixed', 'kernel': 'common', 'metric': 'minkowski', 'h': 0.561201007994716, 'a': 1, 'b': 2, 'p': 1}. Best is trial 16 with value: 0.7067967083206339.\n",
      "[I 2024-02-27 16:13:17,258] Trial 90 finished with value: 0.6979579396525449 and parameters: {'neighbors': 22, 'window': 'unfixed', 'kernel': 'gaussian', 'metric': 'minkowski', 'p': 1}. Best is trial 16 with value: 0.7067967083206339.\n",
      "[I 2024-02-27 16:13:19,746] Trial 91 finished with value: 0.7067967083206339 and parameters: {'neighbors': 12, 'window': 'unfixed', 'kernel': 'gaussian', 'metric': 'minkowski', 'p': 1}. Best is trial 16 with value: 0.7067967083206339.\n",
      "[I 2024-02-27 16:13:22,855] Trial 92 finished with value: 0.7046632124352331 and parameters: {'neighbors': 16, 'window': 'unfixed', 'kernel': 'gaussian', 'metric': 'minkowski', 'p': 1}. Best is trial 16 with value: 0.7067967083206339.\n",
      "[I 2024-02-27 16:13:25,733] Trial 93 finished with value: 0.7010057909174032 and parameters: {'neighbors': 14, 'window': 'unfixed', 'kernel': 'gaussian', 'metric': 'minkowski', 'p': 1}. Best is trial 16 with value: 0.7067967083206339.\n",
      "[I 2024-02-27 16:13:28,523] Trial 94 finished with value: 0.7061871380676623 and parameters: {'neighbors': 13, 'window': 'unfixed', 'kernel': 'gaussian', 'metric': 'minkowski', 'p': 1}. Best is trial 16 with value: 0.7067967083206339.\n",
      "[I 2024-02-27 16:13:31,462] Trial 95 finished with value: 0.701310576043889 and parameters: {'neighbors': 11, 'window': 'unfixed', 'kernel': 'gaussian', 'metric': 'minkowski', 'p': 1}. Best is trial 16 with value: 0.7067967083206339.\n",
      "[I 2024-02-27 16:13:34,092] Trial 96 finished with value: 0.7025297165498323 and parameters: {'neighbors': 18, 'window': 'unfixed', 'kernel': 'gaussian', 'metric': 'minkowski', 'p': 1}. Best is trial 16 with value: 0.7067967083206339.\n",
      "[I 2024-02-27 16:13:37,123] Trial 97 finished with value: 0.6885096007314843 and parameters: {'neighbors': 10, 'window': 'unfixed', 'kernel': 'uniform', 'metric': 'minkowski', 'p': 1}. Best is trial 16 with value: 0.7067967083206339.\n",
      "[I 2024-02-27 16:16:25,217] Trial 98 finished with value: 0.6424870466321243 and parameters: {'neighbors': 7, 'window': 'unfixed', 'kernel': 'gaussian', 'metric': 'cosine'}. Best is trial 16 with value: 0.7067967083206339.\n",
      "[I 2024-02-27 16:16:27,264] Trial 99 finished with value: 0.6720512039012496 and parameters: {'neighbors': 2, 'window': 'unfixed', 'kernel': 'gaussian', 'metric': 'minkowski', 'p': 1}. Best is trial 16 with value: 0.7067967083206339.\n"
     ]
    },
    {
     "name": "stdout",
     "output_type": "stream",
     "text": [
      "{'neighbors': 12, 'window': 'unfixed', 'kernel': 'gaussian', 'metric': 'minkowski', 'p': 1}\n"
     ]
    }
   ],
   "source": [
    "def my_objective(trial):\n",
    "    neighbors = trial.suggest_int('neighbors', 1, 50, log=True)\n",
    "    window = trial.suggest_categorical('window', ['fixed', 'unfixed'])\n",
    "    kernel = trial.suggest_categorical('kernel', ['uniform', 'gaussian', 'common'])\n",
    "    metric = trial.suggest_categorical('metric', ['minkowski', 'chebyshev', 'cosine'])\n",
    "    h, a, b, p = 1, 1, 1, 1\n",
    "    if window == 'fixed':\n",
    "        h = trial.suggest_float('h', 1e-2, 1e2, log=True)\n",
    "    if kernel == 'common':\n",
    "        a = trial.suggest_int('a', 1, 4)\n",
    "        b = trial.suggest_int('b', 1, 4)\n",
    "    if metric == 'minkowski':\n",
    "        p = trial.suggest_int('p', 1, 4)\n",
    "    classifier = KnnClassifier(neighbors, window, h, kernel, a, b, metric, p)\n",
    "    classifier.fit(train_data, train_target)\n",
    "    return accuracy_score(valid_target, classifier.predict(valid_data))\n",
    "\n",
    "study = optuna.create_study(direction='maximize')\n",
    "study.optimize(my_objective, n_trials=100)\n",
    "print(study.best_params)"
   ],
   "metadata": {
    "collapsed": false,
    "ExecuteTime": {
     "end_time": "2024-02-27T13:16:27.278651900Z",
     "start_time": "2024-02-27T11:49:54.396026300Z"
    }
   },
   "id": "e59fb2bf8182fdf8"
  },
  {
   "cell_type": "markdown",
   "source": [
    "## Для реализации sklearn"
   ],
   "metadata": {
    "collapsed": false
   },
   "id": "ea6db85ba6537e9c"
  },
  {
   "cell_type": "code",
   "execution_count": 6,
   "outputs": [
    {
     "name": "stderr",
     "output_type": "stream",
     "text": [
      "[I 2024-02-27 14:38:51,424] A new study created in memory with name: no-name-07f470da-5c51-47c0-8ee7-972823ba16f4\n",
      "[I 2024-02-27 14:38:52,594] Trial 0 finished with value: 0.6330387077110637 and parameters: {'neighbors': 31, 'weights': 'distance', 'metric': 'cosine'}. Best is trial 0 with value: 0.6330387077110637.\n",
      "[I 2024-02-27 14:39:01,644] Trial 1 finished with value: 0.6461444681499543 and parameters: {'neighbors': 7, 'weights': 'uniform', 'metric': 'minkowski', 'p': 3}. Best is trial 1 with value: 0.6461444681499543.\n",
      "[I 2024-02-27 14:39:02,404] Trial 2 finished with value: 0.605912831453825 and parameters: {'neighbors': 1, 'weights': 'uniform', 'metric': 'cosine'}. Best is trial 1 with value: 0.6461444681499543.\n",
      "[I 2024-02-27 14:39:03,060] Trial 3 finished with value: 0.5787869551965864 and parameters: {'neighbors': 2, 'weights': 'uniform', 'metric': 'cosine'}. Best is trial 1 with value: 0.6461444681499543.\n",
      "[I 2024-02-27 14:39:04,015] Trial 4 finished with value: 0.620237732398659 and parameters: {'neighbors': 4, 'weights': 'uniform', 'metric': 'cosine'}. Best is trial 1 with value: 0.6461444681499543.\n",
      "[I 2024-02-27 14:39:04,850] Trial 5 finished with value: 0.6552880219445291 and parameters: {'neighbors': 9, 'weights': 'distance', 'metric': 'cosine'}. Best is trial 5 with value: 0.6552880219445291.\n",
      "[I 2024-02-27 14:39:05,098] Trial 6 finished with value: 0.6476683937823834 and parameters: {'neighbors': 1, 'weights': 'distance', 'metric': 'minkowski', 'p': 1}. Best is trial 5 with value: 0.6552880219445291.\n",
      "[I 2024-02-27 14:39:14,285] Trial 7 finished with value: 0.629076501066748 and parameters: {'neighbors': 3, 'weights': 'uniform', 'metric': 'minkowski', 'p': 3}. Best is trial 5 with value: 0.6552880219445291.\n",
      "[I 2024-02-27 14:39:15,068] Trial 8 finished with value: 0.6403535507467235 and parameters: {'neighbors': 5, 'weights': 'distance', 'metric': 'cosine'}. Best is trial 5 with value: 0.6552880219445291.\n",
      "[I 2024-02-27 14:39:15,820] Trial 9 finished with value: 0.6098750380981408 and parameters: {'neighbors': 3, 'weights': 'uniform', 'metric': 'cosine'}. Best is trial 5 with value: 0.6552880219445291.\n",
      "[I 2024-02-27 14:39:16,114] Trial 10 finished with value: 0.7098445595854922 and parameters: {'neighbors': 20, 'weights': 'distance', 'metric': 'minkowski', 'p': 1}. Best is trial 10 with value: 0.7098445595854922.\n",
      "[I 2024-02-27 14:39:16,409] Trial 11 finished with value: 0.7107589149649497 and parameters: {'neighbors': 18, 'weights': 'distance', 'metric': 'minkowski', 'p': 1}. Best is trial 11 with value: 0.7107589149649497.\n",
      "[I 2024-02-27 14:39:16,763] Trial 12 finished with value: 0.6997866504114599 and parameters: {'neighbors': 26, 'weights': 'distance', 'metric': 'minkowski', 'p': 1}. Best is trial 11 with value: 0.7107589149649497.\n",
      "[I 2024-02-27 14:39:17,103] Trial 13 finished with value: 0.7034440719292898 and parameters: {'neighbors': 15, 'weights': 'distance', 'metric': 'minkowski', 'p': 1}. Best is trial 11 with value: 0.7107589149649497.\n",
      "[I 2024-02-27 14:39:17,502] Trial 14 finished with value: 0.6354769887229503 and parameters: {'neighbors': 46, 'weights': 'distance', 'metric': 'minkowski', 'p': 2}. Best is trial 11 with value: 0.7107589149649497.\n",
      "[I 2024-02-27 14:39:17,762] Trial 15 finished with value: 0.6626028649801889 and parameters: {'neighbors': 15, 'weights': 'distance', 'metric': 'minkowski', 'p': 2}. Best is trial 11 with value: 0.7107589149649497.\n",
      "[I 2024-02-27 14:39:26,905] Trial 16 finished with value: 0.6351722035964645 and parameters: {'neighbors': 17, 'weights': 'distance', 'metric': 'minkowski', 'p': 4}. Best is trial 11 with value: 0.7107589149649497.\n",
      "[I 2024-02-27 14:39:27,540] Trial 17 finished with value: 0.7046632124352331 and parameters: {'neighbors': 9, 'weights': 'distance', 'metric': 'minkowski', 'p': 1}. Best is trial 11 with value: 0.7107589149649497.\n",
      "[I 2024-02-27 14:39:27,790] Trial 18 finished with value: 0.6354769887229503 and parameters: {'neighbors': 46, 'weights': 'distance', 'metric': 'minkowski', 'p': 2}. Best is trial 11 with value: 0.7107589149649497.\n",
      "[I 2024-02-27 14:39:28,086] Trial 19 finished with value: 0.7067967083206339 and parameters: {'neighbors': 23, 'weights': 'distance', 'metric': 'minkowski', 'p': 1}. Best is trial 11 with value: 0.7107589149649497.\n",
      "[I 2024-02-27 14:39:28,212] Trial 20 finished with value: 0.6626028649801889 and parameters: {'neighbors': 15, 'weights': 'distance', 'metric': 'minkowski', 'p': 2}. Best is trial 11 with value: 0.7107589149649497.\n",
      "[I 2024-02-27 14:39:28,529] Trial 21 finished with value: 0.6961292288936299 and parameters: {'neighbors': 27, 'weights': 'distance', 'metric': 'minkowski', 'p': 1}. Best is trial 11 with value: 0.7107589149649497.\n",
      "[I 2024-02-27 14:39:28,909] Trial 22 finished with value: 0.7037488570557757 and parameters: {'neighbors': 10, 'weights': 'distance', 'metric': 'minkowski', 'p': 1}. Best is trial 11 with value: 0.7107589149649497.\n",
      "[I 2024-02-27 14:39:29,204] Trial 23 finished with value: 0.7098445595854922 and parameters: {'neighbors': 20, 'weights': 'distance', 'metric': 'minkowski', 'p': 1}. Best is trial 11 with value: 0.7107589149649497.\n",
      "[I 2024-02-27 14:39:29,499] Trial 24 finished with value: 0.6473636086558976 and parameters: {'neighbors': 39, 'weights': 'distance', 'metric': 'minkowski', 'p': 2}. Best is trial 11 with value: 0.7107589149649497.\n",
      "[I 2024-02-27 14:39:30,161] Trial 25 finished with value: 0.7098445595854922 and parameters: {'neighbors': 20, 'weights': 'distance', 'metric': 'minkowski', 'p': 1}. Best is trial 11 with value: 0.7107589149649497.\n",
      "[I 2024-02-27 14:39:30,433] Trial 26 finished with value: 0.6747942700396221 and parameters: {'neighbors': 10, 'weights': 'distance', 'metric': 'minkowski', 'p': 2}. Best is trial 11 with value: 0.7107589149649497.\n",
      "[I 2024-02-27 14:39:39,741] Trial 27 finished with value: 0.6089606827186833 and parameters: {'neighbors': 33, 'weights': 'distance', 'metric': 'minkowski', 'p': 4}. Best is trial 11 with value: 0.7107589149649497.\n",
      "[I 2024-02-27 14:39:40,160] Trial 28 finished with value: 0.6979579396525449 and parameters: {'neighbors': 6, 'weights': 'distance', 'metric': 'minkowski', 'p': 1}. Best is trial 11 with value: 0.7107589149649497.\n",
      "[I 2024-02-27 14:39:40,577] Trial 29 finished with value: 0.7022249314233465 and parameters: {'neighbors': 12, 'weights': 'distance', 'metric': 'minkowski', 'p': 1}. Best is trial 11 with value: 0.7107589149649497.\n",
      "[I 2024-02-27 14:39:50,281] Trial 30 finished with value: 0.6235903687900031 and parameters: {'neighbors': 32, 'weights': 'distance', 'metric': 'minkowski', 'p': 3}. Best is trial 11 with value: 0.7107589149649497.\n",
      "[I 2024-02-27 14:39:50,734] Trial 31 finished with value: 0.7104541298384639 and parameters: {'neighbors': 22, 'weights': 'distance', 'metric': 'minkowski', 'p': 1}. Best is trial 11 with value: 0.7107589149649497.\n",
      "[I 2024-02-27 14:39:51,179] Trial 32 finished with value: 0.7089302042060347 and parameters: {'neighbors': 21, 'weights': 'distance', 'metric': 'minkowski', 'p': 1}. Best is trial 11 with value: 0.7107589149649497.\n",
      "[I 2024-02-27 14:39:51,649] Trial 33 finished with value: 0.7022249314233465 and parameters: {'neighbors': 12, 'weights': 'distance', 'metric': 'minkowski', 'p': 1}. Best is trial 11 with value: 0.7107589149649497.\n",
      "[I 2024-02-27 14:39:52,039] Trial 34 finished with value: 0.6565071624504725 and parameters: {'neighbors': 7, 'weights': 'uniform', 'metric': 'minkowski', 'p': 2}. Best is trial 11 with value: 0.7107589149649497.\n",
      "[I 2024-02-27 14:39:53,053] Trial 35 finished with value: 0.6168850960073149 and parameters: {'neighbors': 19, 'weights': 'uniform', 'metric': 'cosine'}. Best is trial 11 with value: 0.7107589149649497.\n",
      "[I 2024-02-27 14:39:53,371] Trial 36 finished with value: 0.7040536421822615 and parameters: {'neighbors': 24, 'weights': 'distance', 'metric': 'minkowski', 'p': 1}. Best is trial 11 with value: 0.7107589149649497.\n",
      "[I 2024-02-27 14:39:54,292] Trial 37 finished with value: 0.634257848217007 and parameters: {'neighbors': 35, 'weights': 'distance', 'metric': 'cosine'}. Best is trial 11 with value: 0.7107589149649497.\n",
      "[I 2024-02-27 14:39:54,813] Trial 38 finished with value: 0.6927765925022858 and parameters: {'neighbors': 12, 'weights': 'uniform', 'metric': 'minkowski', 'p': 1}. Best is trial 11 with value: 0.7107589149649497.\n",
      "[I 2024-02-27 14:39:55,653] Trial 39 finished with value: 0.6406583358732094 and parameters: {'neighbors': 27, 'weights': 'distance', 'metric': 'cosine'}. Best is trial 11 with value: 0.7107589149649497.\n",
      "[I 2024-02-27 14:39:55,963] Trial 40 finished with value: 0.6126181042365133 and parameters: {'neighbors': 2, 'weights': 'uniform', 'metric': 'minkowski', 'p': 2}. Best is trial 11 with value: 0.7107589149649497.\n",
      "[I 2024-02-27 14:39:56,309] Trial 41 finished with value: 0.7107589149649497 and parameters: {'neighbors': 18, 'weights': 'distance', 'metric': 'minkowski', 'p': 1}. Best is trial 11 with value: 0.7107589149649497.\n",
      "[I 2024-02-27 14:39:56,760] Trial 42 finished with value: 0.7043584273087473 and parameters: {'neighbors': 8, 'weights': 'distance', 'metric': 'minkowski', 'p': 1}. Best is trial 11 with value: 0.7107589149649497.\n",
      "[I 2024-02-27 14:39:57,301] Trial 43 finished with value: 0.7092349893325206 and parameters: {'neighbors': 17, 'weights': 'distance', 'metric': 'minkowski', 'p': 1}. Best is trial 11 with value: 0.7107589149649497.\n",
      "[I 2024-02-27 14:39:57,750] Trial 44 finished with value: 0.7104541298384639 and parameters: {'neighbors': 13, 'weights': 'distance', 'metric': 'minkowski', 'p': 1}. Best is trial 11 with value: 0.7107589149649497.\n",
      "[I 2024-02-27 14:39:58,200] Trial 45 finished with value: 0.7104541298384639 and parameters: {'neighbors': 13, 'weights': 'distance', 'metric': 'minkowski', 'p': 1}. Best is trial 11 with value: 0.7107589149649497.\n",
      "[I 2024-02-27 14:39:59,118] Trial 46 finished with value: 0.6373056994818653 and parameters: {'neighbors': 4, 'weights': 'distance', 'metric': 'cosine'}. Best is trial 11 with value: 0.7107589149649497.\n",
      "[I 2024-02-27 14:39:59,403] Trial 47 finished with value: 0.6979579396525449 and parameters: {'neighbors': 6, 'weights': 'distance', 'metric': 'minkowski', 'p': 1}. Best is trial 11 with value: 0.7107589149649497.\n",
      "[I 2024-02-27 14:39:59,783] Trial 48 finished with value: 0.7092349893325206 and parameters: {'neighbors': 14, 'weights': 'distance', 'metric': 'minkowski', 'p': 1}. Best is trial 11 with value: 0.7107589149649497.\n",
      "[I 2024-02-27 14:40:00,504] Trial 49 finished with value: 0.690947881743371 and parameters: {'neighbors': 11, 'weights': 'uniform', 'metric': 'minkowski', 'p': 1}. Best is trial 11 with value: 0.7107589149649497.\n",
      "[I 2024-02-27 14:40:01,445] Trial 50 finished with value: 0.6528497409326425 and parameters: {'neighbors': 8, 'weights': 'distance', 'metric': 'cosine'}. Best is trial 11 with value: 0.7107589149649497.\n",
      "[I 2024-02-27 14:40:01,750] Trial 51 finished with value: 0.7034440719292898 and parameters: {'neighbors': 16, 'weights': 'distance', 'metric': 'minkowski', 'p': 1}. Best is trial 11 with value: 0.7107589149649497.\n",
      "[I 2024-02-27 14:40:02,175] Trial 52 finished with value: 0.6961292288936299 and parameters: {'neighbors': 27, 'weights': 'distance', 'metric': 'minkowski', 'p': 1}. Best is trial 11 with value: 0.7107589149649497.\n",
      "[I 2024-02-27 14:40:02,733] Trial 53 finished with value: 0.6836330387077111 and parameters: {'neighbors': 50, 'weights': 'distance', 'metric': 'minkowski', 'p': 1}. Best is trial 11 with value: 0.7107589149649497.\n",
      "[I 2024-02-27 14:40:12,279] Trial 54 finished with value: 0.6440109722645535 and parameters: {'neighbors': 14, 'weights': 'distance', 'metric': 'minkowski', 'p': 3}. Best is trial 11 with value: 0.7107589149649497.\n",
      "[I 2024-02-27 14:40:12,703] Trial 55 finished with value: 0.7080158488265773 and parameters: {'neighbors': 19, 'weights': 'distance', 'metric': 'minkowski', 'p': 1}. Best is trial 11 with value: 0.7107589149649497.\n",
      "[I 2024-02-27 14:40:12,908] Trial 56 finished with value: 0.6586406583358733 and parameters: {'neighbors': 25, 'weights': 'distance', 'metric': 'minkowski', 'p': 2}. Best is trial 11 with value: 0.7107589149649497.\n",
      "[I 2024-02-27 14:40:13,421] Trial 57 finished with value: 0.6885096007314843 and parameters: {'neighbors': 41, 'weights': 'distance', 'metric': 'minkowski', 'p': 1}. Best is trial 11 with value: 0.7107589149649497.\n",
      "[I 2024-02-27 14:40:13,621] Trial 58 finished with value: 0.6641267906126181 and parameters: {'neighbors': 17, 'weights': 'distance', 'metric': 'minkowski', 'p': 2}. Best is trial 11 with value: 0.7107589149649497.\n",
      "[I 2024-02-27 14:40:14,048] Trial 59 finished with value: 0.7104541298384639 and parameters: {'neighbors': 13, 'weights': 'distance', 'metric': 'minkowski', 'p': 1}. Best is trial 11 with value: 0.7107589149649497.\n",
      "[I 2024-02-27 14:40:14,484] Trial 60 finished with value: 0.7104541298384639 and parameters: {'neighbors': 13, 'weights': 'distance', 'metric': 'minkowski', 'p': 1}. Best is trial 11 with value: 0.7107589149649497.\n",
      "[I 2024-02-27 14:40:14,902] Trial 61 finished with value: 0.7104541298384639 and parameters: {'neighbors': 13, 'weights': 'distance', 'metric': 'minkowski', 'p': 1}. Best is trial 11 with value: 0.7107589149649497.\n",
      "[I 2024-02-27 14:40:15,314] Trial 62 finished with value: 0.7046632124352331 and parameters: {'neighbors': 9, 'weights': 'distance', 'metric': 'minkowski', 'p': 1}. Best is trial 11 with value: 0.7107589149649497.\n",
      "[I 2024-02-27 14:40:15,730] Trial 63 finished with value: 0.7037488570557757 and parameters: {'neighbors': 10, 'weights': 'distance', 'metric': 'minkowski', 'p': 1}. Best is trial 11 with value: 0.7107589149649497.\n",
      "[I 2024-02-27 14:40:16,109] Trial 64 finished with value: 0.6476683937823834 and parameters: {'neighbors': 1, 'weights': 'distance', 'metric': 'minkowski', 'p': 1}. Best is trial 11 with value: 0.7107589149649497.\n",
      "[I 2024-02-27 14:40:16,551] Trial 65 finished with value: 0.7067967083206339 and parameters: {'neighbors': 23, 'weights': 'distance', 'metric': 'minkowski', 'p': 1}. Best is trial 11 with value: 0.7107589149649497.\n",
      "[I 2024-02-27 14:40:25,917] Trial 66 finished with value: 0.6373056994818653 and parameters: {'neighbors': 15, 'weights': 'distance', 'metric': 'minkowski', 'p': 4}. Best is trial 11 with value: 0.7107589149649497.\n",
      "[I 2024-02-27 14:40:26,371] Trial 67 finished with value: 0.6939957330082291 and parameters: {'neighbors': 30, 'weights': 'distance', 'metric': 'minkowski', 'p': 1}. Best is trial 11 with value: 0.7107589149649497.\n",
      "[I 2024-02-27 14:40:26,561] Trial 68 finished with value: 0.6653459311185614 and parameters: {'neighbors': 18, 'weights': 'distance', 'metric': 'minkowski', 'p': 2}. Best is trial 11 with value: 0.7107589149649497.\n",
      "[I 2024-02-27 14:40:27,204] Trial 69 finished with value: 0.690947881743371 and parameters: {'neighbors': 11, 'weights': 'uniform', 'metric': 'minkowski', 'p': 1}. Best is trial 11 with value: 0.7107589149649497.\n",
      "[I 2024-02-27 14:40:28,079] Trial 70 finished with value: 0.6434014020115818 and parameters: {'neighbors': 21, 'weights': 'distance', 'metric': 'cosine'}. Best is trial 11 with value: 0.7107589149649497.\n",
      "[I 2024-02-27 14:40:28,388] Trial 71 finished with value: 0.7104541298384639 and parameters: {'neighbors': 13, 'weights': 'distance', 'metric': 'minkowski', 'p': 1}. Best is trial 11 with value: 0.7107589149649497.\n",
      "[I 2024-02-27 14:40:28,796] Trial 72 finished with value: 0.7104541298384639 and parameters: {'neighbors': 13, 'weights': 'distance', 'metric': 'minkowski', 'p': 1}. Best is trial 11 with value: 0.7107589149649497.\n",
      "[I 2024-02-27 14:40:29,197] Trial 73 finished with value: 0.7043584273087473 and parameters: {'neighbors': 8, 'weights': 'distance', 'metric': 'minkowski', 'p': 1}. Best is trial 11 with value: 0.7107589149649497.\n",
      "[I 2024-02-27 14:40:29,649] Trial 74 finished with value: 0.7034440719292898 and parameters: {'neighbors': 16, 'weights': 'distance', 'metric': 'minkowski', 'p': 1}. Best is trial 11 with value: 0.7107589149649497.\n",
      "[I 2024-02-27 14:40:30,099] Trial 75 finished with value: 0.7104541298384639 and parameters: {'neighbors': 22, 'weights': 'distance', 'metric': 'minkowski', 'p': 1}. Best is trial 11 with value: 0.7107589149649497.\n",
      "[I 2024-02-27 14:40:30,520] Trial 76 finished with value: 0.7046632124352331 and parameters: {'neighbors': 11, 'weights': 'distance', 'metric': 'minkowski', 'p': 1}. Best is trial 11 with value: 0.7107589149649497.\n",
      "[I 2024-02-27 14:40:30,924] Trial 77 finished with value: 0.7028345016763182 and parameters: {'neighbors': 7, 'weights': 'distance', 'metric': 'minkowski', 'p': 1}. Best is trial 11 with value: 0.7107589149649497.\n",
      "[I 2024-02-27 14:40:31,327] Trial 78 finished with value: 0.6476683937823834 and parameters: {'neighbors': 2, 'weights': 'distance', 'metric': 'minkowski', 'p': 1}. Best is trial 11 with value: 0.7107589149649497.\n",
      "[I 2024-02-27 14:40:31,763] Trial 79 finished with value: 0.7092349893325206 and parameters: {'neighbors': 14, 'weights': 'distance', 'metric': 'minkowski', 'p': 1}. Best is trial 11 with value: 0.7107589149649497.\n",
      "[I 2024-02-27 14:40:32,149] Trial 80 finished with value: 0.6586406583358733 and parameters: {'neighbors': 6, 'weights': 'uniform', 'metric': 'minkowski', 'p': 2}. Best is trial 11 with value: 0.7107589149649497.\n",
      "[I 2024-02-27 14:40:32,524] Trial 81 finished with value: 0.7022249314233465 and parameters: {'neighbors': 12, 'weights': 'distance', 'metric': 'minkowski', 'p': 1}. Best is trial 11 with value: 0.7107589149649497.\n",
      "[I 2024-02-27 14:40:32,942] Trial 82 finished with value: 0.7104541298384639 and parameters: {'neighbors': 13, 'weights': 'distance', 'metric': 'minkowski', 'p': 1}. Best is trial 11 with value: 0.7107589149649497.\n",
      "[I 2024-02-27 14:40:33,369] Trial 83 finished with value: 0.7080158488265773 and parameters: {'neighbors': 19, 'weights': 'distance', 'metric': 'minkowski', 'p': 1}. Best is trial 11 with value: 0.7107589149649497.\n",
      "[I 2024-02-27 14:40:33,784] Trial 84 finished with value: 0.7046632124352331 and parameters: {'neighbors': 9, 'weights': 'distance', 'metric': 'minkowski', 'p': 1}. Best is trial 11 with value: 0.7107589149649497.\n",
      "[I 2024-02-27 14:40:34,278] Trial 85 finished with value: 0.7104541298384639 and parameters: {'neighbors': 13, 'weights': 'distance', 'metric': 'minkowski', 'p': 1}. Best is trial 11 with value: 0.7107589149649497.\n",
      "[I 2024-02-27 14:40:35,254] Trial 86 finished with value: 0.6388296251142944 and parameters: {'neighbors': 29, 'weights': 'distance', 'metric': 'cosine'}. Best is trial 11 with value: 0.7107589149649497.\n",
      "[I 2024-02-27 14:40:35,590] Trial 87 finished with value: 0.7092349893325206 and parameters: {'neighbors': 17, 'weights': 'distance', 'metric': 'minkowski', 'p': 1}. Best is trial 11 with value: 0.7107589149649497.\n",
      "[I 2024-02-27 14:40:35,993] Trial 88 finished with value: 0.7037488570557757 and parameters: {'neighbors': 10, 'weights': 'distance', 'metric': 'minkowski', 'p': 1}. Best is trial 11 with value: 0.7107589149649497.\n",
      "[I 2024-02-27 14:40:36,419] Trial 89 finished with value: 0.6818043279487961 and parameters: {'neighbors': 4, 'weights': 'distance', 'metric': 'minkowski', 'p': 1}. Best is trial 11 with value: 0.7107589149649497.\n",
      "[I 2024-02-27 14:40:36,871] Trial 90 finished with value: 0.7034440719292898 and parameters: {'neighbors': 15, 'weights': 'distance', 'metric': 'minkowski', 'p': 1}. Best is trial 11 with value: 0.7107589149649497.\n",
      "[I 2024-02-27 14:40:37,299] Trial 91 finished with value: 0.7046632124352331 and parameters: {'neighbors': 11, 'weights': 'distance', 'metric': 'minkowski', 'p': 1}. Best is trial 11 with value: 0.7107589149649497.\n",
      "[I 2024-02-27 14:40:37,743] Trial 92 finished with value: 0.7104541298384639 and parameters: {'neighbors': 13, 'weights': 'distance', 'metric': 'minkowski', 'p': 1}. Best is trial 11 with value: 0.7107589149649497.\n",
      "[I 2024-02-27 14:40:38,183] Trial 93 finished with value: 0.7104541298384639 and parameters: {'neighbors': 13, 'weights': 'distance', 'metric': 'minkowski', 'p': 1}. Best is trial 11 with value: 0.7107589149649497.\n",
      "[I 2024-02-27 14:40:47,831] Trial 94 finished with value: 0.6485827491618409 and parameters: {'neighbors': 16, 'weights': 'distance', 'metric': 'minkowski', 'p': 3}. Best is trial 11 with value: 0.7107589149649497.\n",
      "[I 2024-02-27 14:40:48,257] Trial 95 finished with value: 0.7089302042060347 and parameters: {'neighbors': 21, 'weights': 'distance', 'metric': 'minkowski', 'p': 1}. Best is trial 11 with value: 0.7107589149649497.\n",
      "[I 2024-02-27 14:40:48,676] Trial 96 finished with value: 0.7028345016763182 and parameters: {'neighbors': 7, 'weights': 'distance', 'metric': 'minkowski', 'p': 1}. Best is trial 11 with value: 0.7107589149649497.\n",
      "[I 2024-02-27 14:40:49,348] Trial 97 finished with value: 0.6930813776287718 and parameters: {'neighbors': 9, 'weights': 'uniform', 'metric': 'minkowski', 'p': 1}. Best is trial 11 with value: 0.7107589149649497.\n",
      "[I 2024-02-27 14:40:49,888] Trial 98 finished with value: 0.7040536421822615 and parameters: {'neighbors': 24, 'weights': 'distance', 'metric': 'minkowski', 'p': 1}. Best is trial 11 with value: 0.7107589149649497.\n",
      "[I 2024-02-27 14:40:50,836] Trial 99 finished with value: 0.6498018896677842 and parameters: {'neighbors': 14, 'weights': 'distance', 'metric': 'cosine'}. Best is trial 11 with value: 0.7107589149649497.\n"
     ]
    },
    {
     "name": "stdout",
     "output_type": "stream",
     "text": [
      "{'neighbors': 18, 'weights': 'distance', 'metric': 'minkowski', 'p': 1}\n"
     ]
    }
   ],
   "source": [
    "from sklearn.neighbors import KNeighborsClassifier\n",
    "\n",
    "def sklearn_objective(trial):\n",
    "    neighbors = trial.suggest_int('neighbors', 1, 50, log=True)\n",
    "    weights = trial.suggest_categorical('weights', ['uniform', 'distance'])\n",
    "    metric = trial.suggest_categorical('metric', ['minkowski', 'cosine'])\n",
    "    p = 1\n",
    "    if metric == 'minkowski':\n",
    "        p = trial.suggest_int('p', 1, 4)\n",
    "    classifier = KNeighborsClassifier(neighbors, weights=weights, metric=metric, p=p, n_jobs=1)\n",
    "    classifier.fit(train_data, train_target)\n",
    "    return accuracy_score(valid_target, classifier.predict(valid_data))\n",
    "\n",
    "study = optuna.create_study(direction='maximize')\n",
    "study.optimize(sklearn_objective, n_trials=100)\n",
    "print(study.best_params)"
   ],
   "metadata": {
    "collapsed": false,
    "ExecuteTime": {
     "end_time": "2024-02-27T11:40:50.848587900Z",
     "start_time": "2024-02-27T11:38:51.424529Z"
    }
   },
   "id": "13fff4df12b79d12"
  },
  {
   "cell_type": "markdown",
   "source": [
    "# Зависимость функции качества от числа соседей"
   ],
   "metadata": {
    "collapsed": false
   },
   "id": "e0d3ad26ef4a9e60"
  },
  {
   "cell_type": "code",
   "execution_count": 9,
   "outputs": [],
   "source": [
    "neighbors_range = range(1, 51)\n",
    "size = len(neighbors_range)\n",
    "\n",
    "my_train_accuracy = [0.0] * size\n",
    "my_test_accuracy = [0.0] * size\n",
    "classifier = KnnClassifier(1, window_type='unfixed', kernel='gaussian', metric='minkowski', p=1)\n",
    "classifier.fit(X_train, y_train)\n",
    "for neighbors in neighbors_range:\n",
    "    classifier.neighbors_number = neighbors\n",
    "    my_train_accuracy[neighbors - 1] = accuracy_score(y_train, classifier.predict(X_train))\n",
    "    my_test_accuracy[neighbors - 1] = accuracy_score(y_test, classifier.predict(X_test))\n",
    "    \n",
    "sklearn_train_accuracy = [0.0] * size\n",
    "sklearn_test_accuracy = [0.0] * size\n",
    "for neighbors in neighbors_range:\n",
    "    classifier = KNeighborsClassifier(neighbors, weights='distance', metric='minkowski', p=1, n_jobs=1)\n",
    "    classifier.fit(X_train, y_train)\n",
    "    sklearn_train_accuracy[neighbors - 1] = accuracy_score(y_train, classifier.predict(X_train))\n",
    "    sklearn_test_accuracy[neighbors - 1] = accuracy_score(y_test, classifier.predict(X_test))"
   ],
   "metadata": {
    "collapsed": false,
    "ExecuteTime": {
     "end_time": "2024-02-27T13:49:59.227431500Z",
     "start_time": "2024-02-27T13:26:10.424209Z"
    }
   },
   "id": "193996a06926889d"
  },
  {
   "cell_type": "code",
   "execution_count": 11,
   "outputs": [
    {
     "data": {
      "text/plain": "<matplotlib.legend.Legend at 0x19492721c90>"
     },
     "execution_count": 11,
     "metadata": {},
     "output_type": "execute_result"
    },
    {
     "data": {
      "text/plain": "<Figure size 1200x500 with 2 Axes>",
      "image/png": "[encoded data removed]"
     },
     "metadata": {},
     "output_type": "display_data"
    }
   ],
   "source": [
    "import matplotlib.pyplot as plt\n",
    "\n",
    "fig, ax = plt.subplots(1, 2, figsize=(12, 5))\n",
    "fig.suptitle('Accuracy dependency on the neighbors number')\n",
    "ax[0].set_title('My implementation')\n",
    "ax[0].set_xlabel('Neighbors number')\n",
    "ax[0].set_ylabel('Accuracy')\n",
    "ax[0].plot(neighbors_range, my_train_accuracy, label='train')\n",
    "ax[0].plot(neighbors_range, my_test_accuracy, label='test')\n",
    "ax[0].legend()\n",
    "\n",
    "ax[1].set_title('Sklearn implementation')\n",
    "ax[1].set_xlabel('Neighbors number')\n",
    "ax[1].set_ylabel('Accuracy')\n",
    "ax[1].plot(neighbors_range, sklearn_train_accuracy, label='train')\n",
    "ax[1].plot(neighbors_range, sklearn_test_accuracy, label='test')\n",
    "ax[1].legend()"
   ],
   "metadata": {
    "collapsed": false,
    "ExecuteTime": {
     "end_time": "2024-02-27T13:53:29.427450200Z",
     "start_time": "2024-02-27T13:53:28.917645100Z"
    }
   },
   "id": "dd1e01636f026e4"
  },
  {
   "cell_type": "markdown",
   "source": [
    "# Взвешивание объектов методом LOWESS"
   ],
   "metadata": {
    "collapsed": false
   },
   "id": "8027a39147c28571"
  },
  {
   "cell_type": "code",
   "execution_count": 2,
   "outputs": [],
   "source": [
    "from lowess import Lowess\n",
    "from knn import KnnClassifier\n",
    "from sklearn.metrics import accuracy_score\n",
    "\n",
    "lowess = Lowess(12, knn_kernel='gaussian', lowess_kernel='gaussian', metric='minkowski', p=1)\n",
    "weights = lowess.get_weights(X_train, y_train)"
   ],
   "metadata": {
    "collapsed": false,
    "ExecuteTime": {
     "end_time": "2024-03-03T13:42:55.219877400Z",
     "start_time": "2024-03-03T13:42:11.248341200Z"
    }
   },
   "id": "cd64d1fdfd0b2dae"
  },
  {
   "cell_type": "markdown",
   "source": [
    "## Для собственной реализации"
   ],
   "metadata": {
    "collapsed": false
   },
   "id": "fe7fc440e336eaed"
  },
  {
   "cell_type": "code",
   "execution_count": 7,
   "outputs": [
    {
     "name": "stdout",
     "output_type": "stream",
     "text": [
      "До взвешивания:  0.7147037307973665\n",
      "После взвешивания:  0.7003169958546696\n"
     ]
    }
   ],
   "source": [
    "classifier = KnnClassifier(12, window_type='unfixed', kernel='gaussian', metric='minkowski', p=1)\n",
    "\n",
    "classifier.fit(X_train, y_train)\n",
    "print('До взвешивания: ', accuracy_score(y_test, classifier.predict(X_test)))\n",
    "\n",
    "classifier.fit(X_train, y_train, weights)\n",
    "print('После взвешивания: ', accuracy_score(y_test, classifier.predict(X_test)))"
   ],
   "metadata": {
    "collapsed": false,
    "ExecuteTime": {
     "end_time": "2024-02-29T12:26:03.911434600Z",
     "start_time": "2024-02-29T12:25:54.328369200Z"
    }
   },
   "id": "6ed09ff0dc98f276"
  },
  {
   "cell_type": "markdown",
   "source": [
    "## Для реализации sklearn"
   ],
   "metadata": {
    "collapsed": false
   },
   "id": "45f48dfb67e14d11"
  },
  {
   "cell_type": "code",
   "execution_count": 28,
   "outputs": [
    {
     "name": "stdout",
     "output_type": "stream",
     "text": [
      "До взвешивания:  0.7100707144598878\n",
      "После взвешивания:  0.7032431114362351\n"
     ]
    }
   ],
   "source": [
    "from sklearn.neighbors import KNeighborsClassifier\n",
    "from sklearn.metrics import accuracy_score\n",
    "\n",
    "oversampled_X_train = X_train.sample(frac=10, replace=True, weights=weights, random_state=42)\n",
    "oversampled_y_train = y_train.sample(frac=10, replace=True, weights=weights, random_state=42)\n",
    "classifier = KNeighborsClassifier(18, weights='distance', metric='minkowski', p=1, n_jobs=1)\n",
    "classifier.fit(X_train, y_train)\n",
    "print('До взвешивания: ', accuracy_score(y_test, classifier.predict(X_test)))\n",
    "\n",
    "classifier = KNeighborsClassifier(180, weights='distance', metric='minkowski', p=1, n_jobs=1)\n",
    "classifier.fit(oversampled_X_train, oversampled_y_train)\n",
    "print('После взвешивания: ', accuracy_score(y_test, classifier.predict(X_test)))"
   ],
   "metadata": {
    "collapsed": false,
    "ExecuteTime": {
     "end_time": "2024-03-03T20:46:14.993594300Z",
     "start_time": "2024-03-03T20:46:07.676833700Z"
    }
   },
   "id": "3cee8b4bfa5bee85"
  },
  {
   "cell_type": "code",
   "execution_count": null,
   "outputs": [],
   "source": [],
   "metadata": {
    "collapsed": false
   },
   "id": "6287a08fdcf2c42c"
  }
 ],
 "metadata": {
  "kernelspec": {
   "display_name": "Python 3",
   "language": "python",
   "name": "python3"
  },
  "language_info": {
   "codemirror_mode": {
    "name": "ipython",
    "version": 2
   },
   "file_extension": ".py",
   "mimetype": "text/x-python",
   "name": "python",
   "nbconvert_exporter": "python",
   "pygments_lexer": "ipython2",
   "version": "2.7.6"
  }
 },
 "nbformat": 4,
 "nbformat_minor": 5
}
