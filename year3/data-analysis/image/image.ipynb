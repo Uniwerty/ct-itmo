{
 "cells": [
  {
   "cell_type": "code",
   "execution_count": 18,
   "id": "initial_id",
   "metadata": {
    "collapsed": true,
    "ExecuteTime": {
     "end_time": "2024-01-16T11:08:07.698548300Z",
     "start_time": "2024-01-16T11:08:07.648764400Z"
    }
   },
   "outputs": [],
   "source": [
    "import torch\n",
    "from torchvision.models import resnet50, ResNet50_Weights\n",
    "import torch.nn as nn\n",
    "import torchvision\n",
    "\n",
    "class Classifier(nn.Module):\n",
    "    def __init__(self):\n",
    "        super(Classifier, self).__init__()\n",
    "        self.model = resnet50(weights=ResNet50_Weights.DEFAULT)\n",
    "        for param in self.model.parameters():\n",
    "            param.requires_grad = False\n",
    "\n",
    "        self.linear = nn.Sequential(\n",
    "            nn.Linear(1000, 256),\n",
    "            nn.Sigmoid(),\n",
    "            nn.Dropout(0.1),\n",
    "            nn.Linear(256, 256),\n",
    "            nn.Sigmoid(),\n",
    "            nn.Dropout(0.1),\n",
    "            nn.Linear(256, 4),\n",
    "            nn.Sigmoid()\n",
    "        )\n",
    "        \n",
    "    def forward(self, x):\n",
    "        return self.linear(self.model(x))\n"
   ]
  },
  {
   "cell_type": "code",
   "execution_count": 19,
   "outputs": [],
   "source": [
    "import torchvision.transforms as tt\n",
    "\n",
    "train_dir = 'images/train/'\n",
    "test_dir = 'images/test/'\n",
    "train_dataset = torchvision.datasets.ImageFolder(\n",
    "    train_dir,\n",
    "    transform=tt.Compose([\n",
    "        tt.RandomResizedCrop(224),\n",
    "        tt.RandomHorizontalFlip(),\n",
    "        tt.ToTensor(),\n",
    "        tt.Normalize((0.485*255, 0.456*255, 0.406*255), \n",
    "                     (0.229*255, 0.224*255, 0.225*255))\n",
    "    ])\n",
    ")\n",
    "train_dataloader = torch.utils.data.DataLoader(\n",
    "    train_dataset, \n",
    "    batch_size=10, \n",
    "    shuffle=True, \n",
    "    num_workers=2, \n",
    "    pin_memory=True\n",
    ")\n",
    "\n",
    "test_dataset = torchvision.datasets.ImageFolder(\n",
    "    test_dir,\n",
    "    transform=tt.Compose([\n",
    "        tt.Resize((224, 224)),\n",
    "        tt.ToTensor(),\n",
    "        tt.Normalize((0.485*255, 0.456*255, 0.406*255),\n",
    "                     (0.229*255, 0.224*255, 0.225*255))\n",
    "    ])\n",
    ")\n",
    "test_dataloader = torch.utils.data.DataLoader(\n",
    "    test_dataset,\n",
    "    batch_size=2,\n",
    "    shuffle=True,\n",
    "    pin_memory=True\n",
    ")"
   ],
   "metadata": {
    "collapsed": false,
    "ExecuteTime": {
     "end_time": "2024-01-16T11:08:10.349690800Z",
     "start_time": "2024-01-16T11:08:10.321686700Z"
    }
   },
   "id": "a11a34ba9c23c772"
  },
  {
   "cell_type": "code",
   "execution_count": 21,
   "outputs": [
    {
     "name": "stdout",
     "output_type": "stream",
     "text": [
      "Epoch 0\n",
      "Training accuracy: 0.263\n",
      "Epoch 1\n",
      "Training accuracy: 0.303\n",
      "Epoch 2\n",
      "Training accuracy: 0.314\n",
      "Epoch 3\n",
      "Training accuracy: 0.311\n",
      "Epoch 4\n",
      "Training accuracy: 0.316\n",
      "Epoch 5\n",
      "Training accuracy: 0.324\n",
      "Epoch 6\n",
      "Training accuracy: 0.352\n",
      "Epoch 7\n",
      "Training accuracy: 0.364\n",
      "Epoch 8\n",
      "Training accuracy: 0.405\n",
      "Epoch 9\n",
      "Training accuracy: 0.442\n",
      "Epoch 10\n",
      "Training accuracy: 0.454\n",
      "Epoch 11\n",
      "Training accuracy: 0.459\n",
      "Epoch 12\n",
      "Training accuracy: 0.488\n",
      "Epoch 13\n",
      "Training accuracy: 0.491\n",
      "Epoch 14\n",
      "Training accuracy: 0.488\n",
      "Epoch 15\n",
      "Training accuracy: 0.518\n",
      "Epoch 16\n",
      "Training accuracy: 0.553\n",
      "Epoch 17\n",
      "Training accuracy: 0.557\n",
      "Epoch 18\n",
      "Training accuracy: 0.598\n",
      "Epoch 19\n",
      "Training accuracy: 0.615\n",
      "Epoch 20\n",
      "Training accuracy: 0.614\n",
      "Epoch 21\n",
      "Training accuracy: 0.644\n",
      "Epoch 22\n",
      "Training accuracy: 0.681\n",
      "Epoch 23\n",
      "Training accuracy: 0.684\n",
      "Epoch 24\n",
      "Training accuracy: 0.722\n",
      "Epoch 25\n",
      "Training accuracy: 0.757\n",
      "Epoch 26\n",
      "Training accuracy: 0.765\n",
      "Epoch 27\n",
      "Training accuracy: 0.806\n",
      "Epoch 28\n",
      "Training accuracy: 0.828\n",
      "Epoch 29\n",
      "Training accuracy: 0.868\n"
     ]
    }
   ],
   "source": [
    "model = Classifier()\n",
    "loss_function = torch.nn.CrossEntropyLoss()\n",
    "optimizer = torch.optim.SGD(params=model.parameters(), lr=0.0001)\n",
    "for epoch in range(30):\n",
    "    print(f'Epoch {epoch}')\n",
    "    model.train()\n",
    "    train_accuracy = torch.tensor(0.)\n",
    "    for X, y in train_dataloader:\n",
    "        optimizer.zero_grad()\n",
    "        output = model(X)\n",
    "        loss = loss_function(output, y)\n",
    "        loss.backward()\n",
    "        optimizer.step()\n",
    "        with torch.no_grad():\n",
    "            train_accuracy += (torch.argmax(output, dim=1) == y).sum()\n",
    "    print(f'Training accuracy: {train_accuracy/len(train_dataloader.dataset):.3f}')"
   ],
   "metadata": {
    "collapsed": false,
    "ExecuteTime": {
     "end_time": "2024-01-16T11:32:08.575171700Z",
     "start_time": "2024-01-16T11:16:31.440096400Z"
    }
   },
   "id": "a2c75db85b68fdb7"
  },
  {
   "cell_type": "code",
   "execution_count": 33,
   "outputs": [
    {
     "name": "stdout",
     "output_type": "stream",
     "text": [
      "Test accuracy: 0.663\n"
     ]
    }
   ],
   "source": [
    "test_accuracy = torch.tensor(0.)\n",
    "for X, y in test_dataloader:\n",
    "    output = model(X)\n",
    "    test_accuracy += (torch.argmax(output, dim=1) == y).sum()\n",
    "print(f'Training accuracy: {test_accuracy/len(test_dataloader.dataset):.3f}')"
   ],
   "metadata": {
    "collapsed": false,
    "ExecuteTime": {
     "end_time": "2024-01-16T11:40:29.574377Z",
     "start_time": "2024-01-16T11:40:12.599861900Z"
    }
   },
   "id": "bf7ffc9ef6990eaa"
  },
  {
   "cell_type": "code",
   "execution_count": null,
   "outputs": [],
   "source": [],
   "metadata": {
    "collapsed": false
   },
   "id": "f4ea960df43a1ba2"
  }
 ],
 "metadata": {
  "kernelspec": {
   "display_name": "Python 3",
   "language": "python",
   "name": "python3"
  },
  "language_info": {
   "codemirror_mode": {
    "name": "ipython",
    "version": 2
   },
   "file_extension": ".py",
   "mimetype": "text/x-python",
   "name": "python",
   "nbconvert_exporter": "python",
   "pygments_lexer": "ipython2",
   "version": "2.7.6"
  }
 },
 "nbformat": 4,
 "nbformat_minor": 5
}
