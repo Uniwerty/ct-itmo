{
 "cells": [
  {
   "cell_type": "markdown",
   "source": [
    "# Чтение файла и фильтрация слов"
   ],
   "metadata": {
    "collapsed": false
   },
   "id": "3900d77932f245a5"
  },
  {
   "cell_type": "code",
   "execution_count": 1,
   "outputs": [],
   "source": [
    "import pandas as pd\n",
    "\n",
    "songs = pd.read_csv('data/songs.csv')\n",
    "songs = songs[:3000]\n",
    "\n",
    "allowed_chars = set(list(\"qwertyuiopasdfghjklzxcvbnm' \"))\n",
    "mapping = lambda s: ''.join(list(filter(lambda c: c in allowed_chars, s)))\n",
    "songs['Lyrics'] = songs['Lyrics'].apply(lambda s: mapping(str(s)))"
   ],
   "metadata": {
    "collapsed": false,
    "ExecuteTime": {
     "end_time": "2023-12-21T09:25:17.183407800Z",
     "start_time": "2023-12-21T09:25:13.671177200Z"
    }
   },
   "id": "initial_id"
  },
  {
   "cell_type": "markdown",
   "source": [
    "# Подсчёт 5% наиболее частых слов"
   ],
   "metadata": {
    "collapsed": false
   },
   "id": "aad7a503e238d90f"
  },
  {
   "cell_type": "code",
   "execution_count": 2,
   "outputs": [
    {
     "name": "stdout",
     "output_type": "stream",
     "text": [
      "[('the', 23367), ('i', 22775), ('you', 21562), ('to', 13591), ('and', 13137), ('a', 13079), ('me', 11010), ('my', 8923), ('in', 8384), ('it', 7887), ('of', 6585), ('your', 6173), (\"i'm\", 6058), ('on', 5588), ('that', 5346), ('all', 4863), ('be', 4765), ('is', 4672), ('we', 4574), ('for', 4531), ('so', 4178), (\"don't\", 4107), ('but', 3802), ('love', 3692), ('know', 3624), ('no', 3611), ('just', 3370), ('like', 3331), (\"it's\", 3279), ('this', 3036), ('what', 3001), ('with', 2984), ('when', 2965), ('', 2954), ('up', 2817), ('can', 2625), ('got', 2609), ('if', 2566), ('oh', 2522), ('do', 2491), (\"you're\", 2476), ('now', 2460), ('are', 2409), ('out', 2404), ('go', 2394), ('down', 2350), ('one', 2212), ('get', 2135), ('not', 2115), ('was', 2087), ('never', 2085), ('yeah', 2033), ('time', 2008), ('come', 1902), (\"can't\", 1881), ('let', 1850), ('will', 1844), ('want', 1778), ('have', 1770), ('see', 1729), ('che', 1677), ('they', 1622), ('at', 1603), ('say', 1592), ('e', 1577), ('gonna', 1562), ('la', 1551), ('feel', 1547), ('take', 1516), (\"i'll\", 1514), ('way', 1503), ('from', 1502), ('baby', 1468), ('she', 1443), ('back', 1429), ('make', 1416), ('wanna', 1386), ('how', 1365), ('been', 1274), ('here', 1270), ('non', 1264), ('away', 1255), ('need', 1253), (\"i've\", 1248), ('as', 1226), ('life', 1223), ('there', 1217), ('night', 1212), ('right', 1181), ('could', 1162), ('heart', 1161), ('more', 1160), ('di', 1136), ('un', 1127), ('give', 1114), ('too', 1085), ('our', 1067), (\"'cause\", 1061), ('tell', 1049), ('why', 1045), (\"we're\", 1045), ('am', 1024), ('her', 1010), ('day', 1006), ('or', 1003), ('by', 985), ('world', 977), ('only', 974), ('he', 966), ('man', 964), ('where', 949), ('eyes', 946), ('again', 944), ('il', 941), (\"there's\", 932), ('through', 923), ('would', 921), ('hey', 877), ('us', 855), (\"ain't\", 850), ('who', 848), ('over', 848), ('were', 841), ('look', 836), (\"won't\", 834), ('little', 830), ('think', 826), ('every', 815), ('still', 802), ('then', 800), ('mind', 795), ('some', 794), (\"that's\", 793), ('nothing', 783), ('about', 769), ('always', 766), ('im', 742), ('good', 735), ('girl', 720), ('cause', 720), ('tu', 718), ('keep', 702), ('had', 694), ('said', 692), ('te', 690), ('long', 682), ('around', 680), ('gotta', 679), ('find', 679), ('hold', 670), ('an', 658), ('home', 652), ('mi', 647), ('tonight', 647), ('into', 645), ('things', 632), ('something', 628), ('really', 622), ('well', 613), ('per', 607), ('alone', 600), ('his', 597), ('face', 592), (\"she's\", 588), ('another', 586), ('de', 585), ('ever', 584), ('le', 583), ('did', 578), ('better', 577), ('them', 576), ('se', 576), ('fire', 560), ('everything', 556), ('light', 546), ('please', 544), ('ti', 544), ('its', 542), ('run', 536), ('hard', 531), ('try', 530), ('gone', 528), (\"you'll\", 525), (\"you've\", 525), ('hear', 524), ('lost', 521), ('before', 520), ('turn', 519), ('leave', 519), ('much', 516), ('head', 512), ('show', 510), ('ma', 505), ('these', 501), ('inside', 499), ('fall', 498), ('believe', 495), ('rock', 495), ('left', 492), ('stay', 490), ('die', 489), ('bad', 488), ('off', 487), ('high', 486), ('than', 486), ('should', 483), ('going', 483), ('stop', 479), ('live', 477), ('new', 476), ('end', 473), ('pi', 472), ('myself', 468), ('dont', 465), ('break', 462), ('made', 454), ('change', 451), ('even', 448), ('without', 448), ('cry', 446), (\"i'd\", 443), ('him', 440), ('si', 439), ('has', 433), ('ready', 433), ('hell', 429), ('que', 428), ('thing', 416), ('maybe', 415), ('call', 411), ('own', 407), ('place', 405), (\"he's\", 398), ('their', 396), ('free', 395), ('forever', 393), ('stand', 392), ('wrong', 391), ('enough', 390), ('pain', 389), ('boy', 388), ('dream', 388), ('far', 386), ('thought', 383), ('last', 383), ('name', 383), ('hope', 376), ('sei', 375), ('da', 373), ('feeling', 371), ('mine', 370), ('dead', 367), ('other', 363), ('play', 363), ('soul', 361), ('ya', 359), ('coming', 359), ('io', 359), ('put', 358), ('care', 357), ('waiting', 357), ('done', 355), ('touch', 354), ('una', 348), ('sun', 346), (\"we'll\", 345), ('dark', 345), ('living', 344), ('someone', 342), ('old', 341), ('lonely', 340), ('wait', 336), ('remember', 334), ('walk', 332), ('people', 331), ('cold', 331), ('hand', 330), ('qui', 327), ('sky', 325), ('crazy', 321), (\"what's\", 321), ('talk', 317), ('ci', 317), ('fight', 315), ('wish', 314), ('real', 312), ('alive', 309), ('alright', 309), ('blood', 308), ('yes', 307), ('watch', 307), ('friends', 304), ('hands', 304), ('same', 302), ('roll', 301), ('close', 300), ('smile', 300), ('start', 299), ('forget', 298), ('lo', 298), ('big', 296), ('dance', 294), ('must', 293), ('lose', 293), ('con', 293), ('knew', 292), ('woman', 291), (\"let's\", 289), ('je', 289), ('side', 288), ('hide', 287), ('god', 286), ('help', 286), ('sometimes', 286), ('ooh', 286), ('looking', 285), (\"they're\", 285), ('miss', 285), ('line', 283), ('used', 282), ('running', 281), ('together', 280), ('ground', 279), ('bring', 277), ('mai', 277), ('under', 276), ('words', 275), ('two', 273), ('kiss', 269), (\"didn't\", 268), ('true', 268), ('rain', 267), ('sweet', 266), ('song', 266), ('sleep', 265), ('told', 265), ('feels', 265), ('solo', 264), ('best', 262), ('easy', 262), ('hate', 261), ('while', 261), ('today', 259), ('move', 259), ('once', 258), ('black', 258), ('knows', 258), ('ho', 257), ('lie', 255), ('mean', 254), ('first', 254), ('et', 254), ('lights', 252), ('goodbye', 251), ('burning', 248), ('getting', 246), ('save', 245), ('tears', 244), ('blue', 243), ('goes', 243), ('bed', 243), ('days', 242), ('times', 242), ('ohh', 242), ('fine', 240), ('those', 237), (\"we've\", 237), ('dreams', 235), ('cant', 235), ('might', 234), ('found', 234), ('door', 233), ('lay', 233), ('understand', 232), ('many', 231), ('any', 231), ('comes', 229), ('yourself', 228), ('everybody', 228), ('wake', 226), ('took', 226), ('kill', 226), ('al', 226), ('amore', 226), ('ill', 225), ('seen', 224), ('les', 224), ('open', 223), ('such', 223), ('nobody', 221), ('sure', 220), ('town', 220), ('matter', 220), (\"c'\", 219), ('fly', 218), ('takes', 217), ('burn', 217), ('trying', 217), ('until', 217), ('boys', 216), ('because', 216), ('behind', 216), ('else', 214), ('sing', 213), ('came', 213), ('body', 213), ('gun', 212), ('after', 211), ('ask', 211), ('broken', 209), ('gimme', 209), (\"couldn't\", 208), ('room', 208), ('na', 208), ('hot', 206), ('youre', 205), ('young', 205), ('work', 205), ('chance', 204), ('whole', 204), ('saw', 203), ('makes', 203), ('ancora', 203), ('hit', 202), ('kind', 201), ('guess', 201), ('sono', 201), ('stars', 200), ('money', 200), ('en', 200), ('happy', 198), ('anything', 197), ('somebody', 197), ('may', 197), ('listen', 196), ('control', 195), ('next', 195), ('mio', 194), ('step', 193), ('beat', 193), ('sempre', 193), ('though', 192), ('late', 192), ('wild', 191), (\"c'est\", 191), ('deep', 190), ('being', 190), ('falling', 190), ('fun', 190), ('death', 190), ('y', 190), ('house', 189), ('senza', 189), ('ive', 187), ('cos', 187), ('road', 187), ('felt', 185), ('morning', 185), ('ha', 185), ('heaven', 184), ('friend', 184), ('game', 184), ('moment', 182), ('ride', 182), ('party', 182), ('air', 181), ('city', 180), ('strong', 180), ('river', 180), ('apart', 179), (\"you'd\", 179), ('lies', 178), ('sick', 177), ('wall', 177), ('years', 176), ('sound', 175), ('magic', 174), ('hurt', 174), ('each', 173), ('moon', 173), (\"'em\", 173), ('tried', 172), ('afraid', 172), ('music', 172), ('eye', 171), ('soon', 171), ('ah', 171), ('reason', 170), ('yo', 170), ('vita', 170), ('seems', 169), ('went', 169), ('white', 168), ('set', 168), ('poi', 168), ('sad', 166), ('gave', 164), ('wanted', 164), (\"doesn't\", 163), ('story', 163), ('summer', 163), ('tutto', 163), (\"'til\", 162), ('floor', 162), ('o', 162), ('son', 161), ('wants', 161), ('hair', 160), ('win', 160), ('war', 159), ('shut', 159), ('wind', 159), ('mia', 159), ('quando', 159), ('street', 158), ('fear', 158), ('met', 158), ('des', 158), ('pas', 158), ('feet', 157), ('tired', 157), ('talking', 156), ('full', 156), ('drink', 155), ('wonder', 155), ('pretty', 155), ('skin', 155), ('walking', 155), ('born', 154), ('cut', 154), (\"who's\", 154), ('chi', 154), ('tomorrow', 153), ('sea', 153), ('shake', 153), ('perfect', 152), ('beautiful', 152), ('lips', 152), ('part', 152), ('low', 151), ('mama', 151), ('mon', 151), ('el', 151), ('va', 151), ('till', 150), ('water', 150), ('doing', 149), ('yet', 149), ('blow', 149), ('calling', 149), ('dirty', 149), ('red', 149), ('giorno', 149), ('truth', 148), ('thinking', 148), ('tuo', 148), ('nice', 147), ('pour', 147), ('meet', 147), ('nights', 146), ('breathe', 145), ('very', 145), ('shine', 145), ('est', 145), ('questo', 145), ('fool', 143), ('ogni', 142), ('arms', 141), ('devil', 141), ('sar', 141), ('pull', 140), ('making', 140), ('between', 140), ('breath', 140), ('past', 140), ('anymore', 139), ('everyone', 139), ('giving', 139), ('sorry', 139), ('sai', 139), ('dancing', 138), ('taste', 138), ('follow', 138), ('nel', 138), ('pay', 137), ('heard', 137), ('honey', 137), (\"wouldn't\", 137), ('hello', 137), ('eat', 137), ('anche', 137), ('word', 136), ('throw', 136), ('t', 136), ('perch', 136), ('shot', 135), ('round', 135), ('gets', 134), ('dentro', 134), ('losing', 133), ('phone', 133), ('empty', 133), ('noi', 133), ('damn', 131), ('worth', 131), ('del', 131), ('cuore', 131), ('hai', 131), ('tight', 130), ('trust', 130), ('sin', 130), ('s', 130), ('both', 129), ('does', 129), ('uh', 129), ('hearts', 128), ('caught', 128), ('girls', 128), ('sit', 128), ('learn', 128), ('babe', 128), (\"'bout\", 127), ('along', 127), ('stone', 127), ('cuz', 127), ('blind', 126), ('known', 126), ('turning', 126), ('bye', 126), ('niente', 126), ('scared', 125), ('lover', 125), ('king', 124), ('car', 124), ('voice', 123), ('standing', 123), ('land', 123), ('fuck', 122), ('carry', 122), ('catch', 122), ('fa', 121), ('slow', 121), ('space', 121), ('somewhere', 121), ('closer', 121), ('thank', 121), ('wont', 120), ('escape', 120), ('thats', 119), ('outside', 119), ('fell', 119), ('playing', 119), ('welcome', 118), ('turned', 118), ('dove', 118), ('most', 117), ('telling', 117), ('knees', 117), ('use', 116), ('says', 116), ('darling', 116), ('bit', 116), ('angel', 116), ('dans', 116), ('near', 115), ('yours', 115), ('fast', 115), ('hungry', 115), ('tout', 115), ('ora', 115), ('upon', 114), ('since', 114), ('promise', 114), ('swear', 114), ('blame', 114), ('dear', 114), ('insieme', 114), ('anyone', 113), ('drive', 113), ('silence', 113), ('holding', 113), ('ce', 113), ('via', 113), ('leaving', 112), ('different', 112), ('answer', 112), ('seem', 112), ('pray', 112), ('begin', 111), ('walls', 111), ('rest', 111), ('number', 111), ('questa', 111), ('tua', 111), ('kids', 110), ('someday', 110), ('crying', 110), ('okay', 110), ('bitch', 110), ('lot', 109), ('clear', 109), ('rise', 109), ('shadow', 109), ('star', 109), ('cool', 109), ('top', 109), ('ed', 109), ('notte', 109), ('pick', 108), ('theres', 108), ('lives', 108), ('loud', 108), ('tra', 108), (\"'n'\", 108), ('cosa', 107), ('oohooh', 107), ('gi', 107), ('shit', 106), ('guy', 106), ('christmas', 106), ('taking', 106), ('hole', 106), ('voglio', 106), ('watching', 105), ('rules', 105), ('scream', 105), ('plus', 105), ('mondo', 105), ('power', 104), ('nowhere', 104), ('vivere', 104), ('straight', 103), ('bones', 103), ('above', 103), ('survive', 103), ('su', 103), ('gold', 102), ('loved', 102), ('looks', 102), (\"she'll\", 102), ('sa', 102), ('ways', 101), ('radio', 101), ('cannot', 101), ('reach', 101), ('ne', 101), ('killing', 100), ('ones', 100), (\"comin'\", 100), (\"they'll\", 100), ('whatever', 100), ('brain', 99), ('higher', 99), ('memories', 98), ('count', 98), ('speak', 98), ('tempo', 98), ('grow', 97), ('million', 97), ('thousand', 97), ('mother', 97), ('sight', 97), ('screaming', 97), ('woah', 97), ('mare', 97), ('trouble', 96), ('three', 96), ('breaking', 96), ('peace', 96), ('dying', 96), ('earth', 96), ('insane', 96), ('write', 96), ('vie', 96), ('ice', 95), ('send', 95), ('chasing', 95), ('lady', 95), ('sole', 95), ('across', 94), ('fill', 94), ('kick', 94), (\"wasn't\", 93), (\"'round\", 93), ('safe', 93), ('child', 93), ('loving', 93), ('gli', 93), ('future', 92), ('waste', 92), ('bite', 92), ('dog', 92), ('quel', 92), ('read', 91), ('great', 91), ('golden', 91), ('mess', 91), ('pretend', 91), ('middle', 91), ('jack', 91), ('weak', 91), ('kept', 90), ('window', 90), ('bright', 90), ('lets', 90), ('moi', 90), ('mais', 90), ('es', 90), ('heavy', 89), ('dreaming', 89), ('worry', 89), ('vuoi', 89), ('cest', 89), ('streets', 88), ('supposed', 88), ('become', 88), ('underneath', 87), ('crime', 87), ('male', 87), ('evil', 86), ('paradise', 86), ('darkness', 86), ('ring', 86), ('almost', 86), ('freedom', 86), ('year', 86), ('candy', 86), ('cielo', 86), ('having', 85), ('which', 85), ('finally', 85), ('memory', 85), ('steal', 85), ('train', 84), ('mad', 84), ('ends', 84), ('second', 84), ('ahead', 84), ('sign', 84), ('flame', 84), ('keeps', 84), ('hurts', 84), ('everywhere', 84), ('shoot', 84), ('amor', 84), (\"po'\", 84), ('spend', 83), ('walked', 83), ('games', 83), ('needs', 83), ('rather', 83), ('longer', 83), ('queen', 83), ('l', 83), ('four', 82), ('heat', 82), ('within', 82), ('school', 82), ('feed', 81), ('human', 81), ('mirror', 81), ('tear', 81), ('edge', 81), ('against', 80), ('build', 80), ('shining', 79), ('shadows', 79), ('brother', 79), ('anybody', 79), ('mouth', 79), ('flames', 78), (\"isn't\", 78), ('point', 78), ('problem', 78), ('aint', 78), ('outta', 78), (\"here's\", 78), ('clean', 78), ('du', 78), ('vorrei', 78), ('stuck', 77), ('pride', 77), ('thunder', 77), (\"everybody's\", 77), ('broke', 76), ('children', 76), ('lead', 76), ('stupid', 76), (\"we'd\", 76), ('learned', 76), ('simple', 76), ('lock', 76), ('della', 76), ('nella', 76), ('men', 75), ('father', 75), ('laugh', 75), ('mr', 75), ('kinda', 75), ('dress', 75), ('quite', 74), ('belong', 74), ('somehow', 74), ('hiding', 74), ('ghost', 74), ('died', 74), ('doubt', 74), ('bleed', 74), ('picture', 74), ('une', 74), ('fake', 73), ('hanging', 73), ('pass', 73), ('chains', 73), ('fighting', 73), ('happened', 73), ('knife', 73), ('york', 73), ('harder', 73), ('adesso', 73), ('lord', 72), ('smoke', 72), ('hurry', 72), ('regret', 72), ('fate', 72), ('laughing', 72), ('race', 72), ('strange', 72), ('sweat', 72), ('final', 72), ('toi', 72), ('occhi', 72), ('miei', 72), ('poison', 71), ('fade', 71), ('steel', 71), ('rhythm', 71), ('missing', 71), ('metal', 71), ('saying', 70), (\"goin'\", 70), ('stare', 70), ('already', 70), ('skies', 70), ('beyond', 70), ('meant', 70), ('drop', 70), ('cruel', 70), ('lui', 70), ('case', 70), ('balls', 70), ('bet', 69), ('least', 69), ('forgive', 69), ('slowly', 69), ('dawn', 69), ('whenever', 69), ('sense', 69), ('single', 69), ('realize', 69), ('key', 69), ('youll', 69), ('dirt', 69), ('stick', 69), ('machine', 69), ('fare', 69), ('sento', 69), ('price', 68), ('started', 68), ('mountain', 68), ('glass', 68), ('searching', 68), ('movie', 68), ('moving', 67), ('taken', 67), ('clouds', 67), ('share', 67), ('shoes', 67), ('falls', 67), ('wide', 67), ('hero', 67), (\"lovin'\", 67), ('beg', 67), (\"j'ai\", 67), ('quello', 67), ('tuoi', 67), ('enemies', 66), ('dad', 66), ('looked', 66), ('mistake', 66), ('midnight', 66), ('joy', 66), (\"tryin'\", 66), ('comme', 66), ('worst', 65), ('thoughts', 65), ('guys', 65), ('snake', 65), ('thin', 65), ('half', 65), ('lying', 65), ('cried', 65), ('dare', 65), ('crowd', 65), ('barely', 65), ('sur', 65), ('sleeping', 65), ('called', 65), ('cross', 65), ('headlights', 64), ('front', 64), ('glad', 64), ('small', 64), ('yesterday', 64), ('choose', 64), ('whoa', 64), ('pack', 64), ('endless', 64), (\"rockin'\", 64), ('piece', 63), ('wave', 63), ('push', 63), ('shall', 63), (\"one's\", 63), ('bottle', 63), ('highway', 63), ('funny', 63), ('raise', 62), ('lines', 62), ('winter', 62), ('mmm', 62), ('heartbreak', 62), ('mes', 62), ('leg', 62), ('damned', 62), ('dei', 62), ('tue', 62), ('bano', 62), ('wasted', 61), ('wear', 61), ('drown', 61), ('ran', 61), ('hoping', 61), ('storm', 61), ('kid', 61), ('grave', 61), ('beast', 61), ('deny', 61), ('daddy', 60), ('instead', 60), ('played', 60), (\"livin'\", 60), ('silver', 60), ('women', 60), ('tale', 60), ('stuff', 60), ('bien', 60), (\"he'll\", 60), (\"l'amore\", 60), ('keeping', 59), ('ok', 59), ('anyway', 59), ('luck', 59), ('track', 59), (\"should've\", 59), ('shame', 59), ('tree', 59), ('waves', 59), ('stranger', 59), ('scene', 59), ('dust', 59), ('minute', 59), (\"nothin'\", 59), ('quand', 59), ('means', 59), ('loaded', 58), ('fantasy', 58), ('curse', 58), ('wheel', 58), ('family', 58), ('miles', 58), ('crawl', 58), ('sans', 58), ('bottom', 58), ('holy', 58), ('ai', 58), ('boots', 58), ('alice', 58), ('dal', 58), ('puoi', 58), ('domani', 58), ('buy', 57), ('dry', 57), ('faith', 57), ('starts', 57), ('held', 57), ('awake', 57), ('less', 57), ('ass', 57), ('dogs', 57), ('fever', 57), ('m', 57), ('luna', 57), ('oi', 57), ('smell', 56), ('fingers', 56), ('pieces', 56), ('hitch', 56), ('heal', 56), ('cur', 56), ('tutti', 56), ('locked', 55), ('warm', 55), ('forgot', 55), ('swim', 55), ('happen', 55), ('wings', 55), ('plan', 55), (\"lookin'\", 55), ('teeth', 55), ('beside', 55), ('neck', 55), ('refuse', 55), (\"runnin'\", 55), ('au', 55), ('vivo', 55), ('gente', 55), ('aida', 55), ('trees', 54), ('working', 54), ('probably', 54), ('beauty', 54), ('style', 54), ('changed', 54), ('secret', 54), ('feelings', 54), ('business', 54), ('country', 54), ('later', 54), ('enemy', 54), ('killed', 54), ('due', 54), ('sexy', 54), ('por', 54), ('toys', 54), ('ad', 54), ('needed', 53), ('weight', 53), ('act', 53), ('fucking', 53), ('filled', 53), (\"they've\", 53), ('danger', 53), ('anywhere', 53), ('hours', 53), ('boat', 53), ('news', 53), ('driving', 53), (\"talkin'\", 53), ('donna', 53), ('tes', 53), (\"gettin'\", 53), ('amo', 53), ('vengeance', 53), ('sia', 53), ('lontano', 53), ('wrote', 52), ('flying', 52), ('desire', 52), ('battle', 52), ('hundred', 52), ('singing', 52), ('n', 52), ('band', 52), ('sitting', 52), ('blues', 52), ('ago', 52), ('wasting', 52), ('nous', 52), (\"man's\", 52), ('era', 52), ('famous', 52), ('fatto', 52), ('piano', 52), ('proud', 51), ('growing', 51), ('short', 51), ('ocean', 51), ('corner', 51), ('drifting', 51), ('hour', 51), ('knowing', 51), ('rough', 51), ('vain', 51), ('diamonds', 51), ('burned', 51), ('fragile', 51), ('grande', 51), ('fai', 51), ('sarai', 51), ('wine', 50), ('faces', 50), ('bone', 50), ('voices', 50), ('older', 50), ('turns', 50), ('mom', 50), ('everyday', 50), (\"life's\", 50), ('swallow', 50), ('ugly', 50), ('glory', 50), ('passion', 50), ('check', 50), ('guilty', 50), ('luce', 50), ('senti', 50), ('hike', 50), ('secrets', 49), ('promised', 49), (\"he'd\", 49), ('green', 49), ('shore', 49), ('question', 49), ('imagine', 49), ('surprise', 49), ('shout', 49), ('shaking', 49), ('finger', 49), ('runs', 49), ('jane', 49), ('flash', 49), ('nos', 49), ('suis', 49)]\n"
     ]
    }
   ],
   "source": [
    "from collections import Counter\n",
    "\n",
    "words = ' '.join(songs['Lyrics']).split(' ')\n",
    "counts = Counter(words)\n",
    "limit = int(0.05 * len(counts.keys()))\n",
    "ordered = counts.most_common()\n",
    "most_common = ordered[:limit]\n",
    "print(most_common)"
   ],
   "metadata": {
    "collapsed": false,
    "ExecuteTime": {
     "end_time": "2023-12-21T09:30:43.599482700Z",
     "start_time": "2023-12-21T09:30:43.543609500Z"
    }
   },
   "id": "81195f70f0985d34"
  },
  {
   "cell_type": "markdown",
   "source": [
    "# Удаление из текстов стоп-слов"
   ],
   "metadata": {
    "collapsed": false
   },
   "id": "1abc59ed60a82bb8"
  },
  {
   "cell_type": "code",
   "execution_count": 3,
   "outputs": [],
   "source": [
    "import nltk\n",
    "\n",
    "stopwords = nltk.corpus.stopwords.words('english')\n",
    "\n",
    "filter_significant = lambda s: ' '.join(\n",
    "    list(filter(lambda w: not ((w, counts[w]) in most_common or (w, counts[w]) in stopwords), s.split(' ')))\n",
    ")\n",
    "songs['Lyrics'] = songs['Lyrics'].apply(filter_significant)\n",
    "pd.DataFrame(songs['Lyrics']).to_csv('data/lyrics.csv', index=False, header=False)"
   ],
   "metadata": {
    "collapsed": false,
    "ExecuteTime": {
     "end_time": "2023-12-21T09:31:07.129554700Z",
     "start_time": "2023-12-21T09:30:44.977535200Z"
    }
   },
   "id": "aaaf36795e65fb74"
  },
  {
   "cell_type": "markdown",
   "source": [
    "# Разметка текстов песен по настроению (Positive, Neutral, Negative) с помощью GPT-3.5"
   ],
   "metadata": {
    "collapsed": false
   },
   "id": "e516671c2e24042b"
  },
  {
   "cell_type": "code",
   "execution_count": 4,
   "outputs": [
    {
     "name": "stderr",
     "output_type": "stream",
     "text": [
      "\n",
      "KeyboardInterrupt\n",
      "\n"
     ]
    }
   ],
   "source": [
    "from openai import OpenAI\n",
    "import csv\n",
    "import time\n",
    "\n",
    "client = OpenAI(api_key='deleted')\n",
    "\n",
    "header = ['Artist', 'Song', 'Sentiment', 'Sentiment_rate', 'Lyrics']\n",
    "\n",
    "file = open('data/sentiment_songs.csv', 'a+', encoding='utf-8')\n",
    "writer = csv.DictWriter(file, fieldnames=header, lineterminator='\\n')\n",
    "writer.writeheader()\n",
    "\n",
    "for i in range(71, 100):\n",
    "    for k in range(3):\n",
    "        request = \"What is the sentiment of the following texts:\\n\"\n",
    "        for j in range(10):\n",
    "            request = request + songs['Lyrics'].iloc[i * 30 + k * 10 + j] + \"\\n\"\n",
    "        response = client.chat.completions.create(\n",
    "            model=\"gpt-3.5-turbo\",\n",
    "            messages=[\n",
    "                {\"role\": \"system\",\n",
    "                 \"content\": \"You have to determine the sentiment of the listed 10 songs lyrics and answer for each text in one word. The sentiment can be Positive, Neutral, Negative. Your answer must be a list of 10 comma-separated values.\"},\n",
    "                {\"role\": \"user\", \"content\": request}\n",
    "            ]\n",
    "        )\n",
    "        answers = response.choices[0].message.content.split(',')\n",
    "        print(answers)\n",
    "        for j in range(len(answers)):\n",
    "            answer = answers[j].strip()\n",
    "            rate = 0\n",
    "            if answer == 'Positive':\n",
    "                rate = 1\n",
    "            elif answer == 'Negative':\n",
    "                rate = -1\n",
    "            writer.writerow({\n",
    "                'Artist': songs['Artist'].iloc[i * 30 + k * 10 + j],\n",
    "                'Song': songs['Song'].iloc[i * 30 + k * 10 + j],\n",
    "                'Sentiment': answer,\n",
    "                'Sentiment_rate': rate,\n",
    "                'Lyrics': songs['Lyrics'].iloc[i * 30 + k * 10 + j],\n",
    "            })\n",
    "    time.sleep(60)\n",
    "file.close()"
   ],
   "metadata": {
    "collapsed": false,
    "ExecuteTime": {
     "end_time": "2023-12-21T09:31:20.514998700Z",
     "start_time": "2023-12-21T09:31:15.181132Z"
    }
   },
   "id": "b565b0c3ecdf53f6"
  },
  {
   "cell_type": "markdown",
   "source": [
    "# Подготовка к токенизации текстов"
   ],
   "metadata": {
    "collapsed": false
   },
   "id": "5f57eea2c15e6018"
  },
  {
   "cell_type": "code",
   "execution_count": 5,
   "outputs": [],
   "source": [
    "from tokenizers import Tokenizer\n",
    "from tokenizers.models import BPE\n",
    "from tokenizers.pre_tokenizers import Whitespace\n",
    "from tokenizers.trainers import BpeTrainer\n",
    "\n",
    "tokenizer = Tokenizer(BPE())\n",
    "trainer = BpeTrainer(vocab_size=5000)\n",
    "tokenizer.pre_tokenizer = Whitespace()\n",
    "tokenizer.train(['data/lyrics.csv'], trainer)"
   ],
   "metadata": {
    "collapsed": false,
    "ExecuteTime": {
     "end_time": "2023-12-21T09:33:42.044293200Z",
     "start_time": "2023-12-21T09:33:39.918626200Z"
    }
   },
   "id": "ad591898c722ecb5"
  },
  {
   "cell_type": "markdown",
   "source": [
    "# Обучение модели для определения настроения текста"
   ],
   "metadata": {
    "collapsed": false
   },
   "id": "882d9a48d9d34064"
  },
  {
   "cell_type": "code",
   "execution_count": 25,
   "outputs": [
    {
     "name": "stdout",
     "output_type": "stream",
     "text": [
      "Training classifier\n"
     ]
    },
    {
     "data": {
      "text/plain": "<SklearnClassifier(MLPClassifier(activation='tanh', alpha=0.001, hidden_layer_sizes=(10,)))>"
     },
     "execution_count": 25,
     "metadata": {},
     "output_type": "execute_result"
    }
   ],
   "source": [
    "from nltk.sentiment import SentimentAnalyzer\n",
    "from nltk.sentiment.util import extract_unigram_feats\n",
    "from nltk.classify.scikitlearn import SklearnClassifier\n",
    "from sklearn.neural_network import MLPClassifier\n",
    "from sklearn.model_selection import train_test_split\n",
    "\n",
    "sentiments = pd.read_csv('data/sentiment_songs.csv')\n",
    "lyrics_train, lyrics_test, sentiment_train, sentiment_test = (\n",
    "    train_test_split(sentiments['Lyrics'], sentiments['Sentiment'], test_size=0.3))\n",
    "\n",
    "classifier = SklearnClassifier(MLPClassifier(hidden_layer_sizes=(10,), activation='tanh', alpha=0.001))\n",
    "analyzer = SentimentAnalyzer()\n",
    "train_size = len(lyrics_train)\n",
    "train_data = [None] * train_size\n",
    "for i in range(train_size):\n",
    "    train_data[i] = (\n",
    "        tokenizer.encode(lyrics_train.iloc[i]).tokens,\n",
    "        sentiment_train.iloc[i]\n",
    "    )\n",
    "unigram_feats = analyzer.unigram_word_feats(analyzer.all_words(train_data))\n",
    "analyzer.add_feat_extractor(extract_unigram_feats, unigrams=unigram_feats)\n",
    "train_set = analyzer.apply_features(train_data, labeled=True)\n",
    "analyzer.train(classifier.train, train_set)"
   ],
   "metadata": {
    "collapsed": false,
    "ExecuteTime": {
     "end_time": "2023-12-21T10:20:21.350744Z",
     "start_time": "2023-12-21T10:18:13.455573700Z"
    }
   },
   "id": "deaf51e39f1ac29d"
  },
  {
   "cell_type": "markdown",
   "source": [
    "# Подсчёт метрики на тренировочном и тестовом множествах"
   ],
   "metadata": {
    "collapsed": false
   },
   "id": "dcbac951c19da7cf"
  },
  {
   "cell_type": "code",
   "execution_count": 27,
   "outputs": [
    {
     "name": "stdout",
     "output_type": "stream",
     "text": [
      "Train accuracy score:  0.8867165692131219\n",
      "Test accuracy score:  0.5774804905239688\n"
     ]
    }
   ],
   "source": [
    "from sklearn.metrics import accuracy_score\n",
    "\n",
    "train_results = [None] * train_size\n",
    "for i in range(train_size):\n",
    "    train_results[i] = analyzer.classify(tokenizer.encode(lyrics_train.iloc[i]).tokens)\n",
    "\n",
    "test_size = len(lyrics_test)\n",
    "test_results = [None] * test_size\n",
    "for i in range(test_size):\n",
    "    test_results[i] = analyzer.classify(tokenizer.encode(lyrics_test.iloc[i]).tokens)\n",
    "    \n",
    "print(\"Train accuracy score: \", accuracy_score(sentiment_train, train_results))\n",
    "print(\"Test accuracy score: \", accuracy_score(sentiment_test, test_results))"
   ],
   "metadata": {
    "collapsed": false,
    "ExecuteTime": {
     "end_time": "2023-12-21T10:24:45.431442300Z",
     "start_time": "2023-12-21T10:24:14.920689800Z"
    }
   },
   "id": "9e94fde62ce33753"
  },
  {
   "cell_type": "code",
   "execution_count": null,
   "outputs": [],
   "source": [],
   "metadata": {
    "collapsed": false
   },
   "id": "ea3d01d383616a54"
  }
 ],
 "metadata": {
  "kernelspec": {
   "display_name": "Python 3",
   "language": "python",
   "name": "python3"
  },
  "language_info": {
   "codemirror_mode": {
    "name": "ipython",
    "version": 2
   },
   "file_extension": ".py",
   "mimetype": "text/x-python",
   "name": "python",
   "nbconvert_exporter": "python",
   "pygments_lexer": "ipython2",
   "version": "2.7.6"
  }
 },
 "nbformat": 4,
 "nbformat_minor": 5
}
